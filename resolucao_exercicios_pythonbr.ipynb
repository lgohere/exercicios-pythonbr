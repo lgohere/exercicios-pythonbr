{
  "cells": [
    {
      "cell_type": "markdown",
      "metadata": {
        "id": "OA1lWI8tRi4x"
      },
      "source": [
        "# Resolução dos Exercícios Dev Pro"
      ]
    },
    {
      "cell_type": "markdown",
      "metadata": {
        "id": "DH08avX2R9-b"
      },
      "source": [
        "Nesse notebook consta a resolução de varios exercícios da [lista da Python Brasil](https://wiki.python.org.br/ListaDeExercicios)."
      ]
    },
    {
      "cell_type": "markdown",
      "metadata": {
        "id": "DUPHafxPSVjG"
      },
      "source": [
        "# [Estrutura Sequencial](https://wiki.python.org.br/EstruturaSequencial)\n",
        "  ✔️ Concluído."
      ]
    },
    {
      "cell_type": "markdown",
      "metadata": {
        "id": "BzTJgUwZSpD7"
      },
      "source": [
        "**Exercício 1.**\n",
        "* Faça um Programa que mostre a mensagem \"Alo mundo\" na tela."
      ]
    },
    {
      "cell_type": "code",
      "execution_count": null,
      "metadata": {
        "colab": {
          "base_uri": "https://localhost:8080/"
        },
        "id": "H85fJ7EATCDR",
        "outputId": "c25b94a0-cdf2-4e27-e398-d32ff0e197e8"
      },
      "outputs": [
        {
          "name": "stdout",
          "output_type": "stream",
          "text": [
            "Olá Mundo\n"
          ]
        }
      ],
      "source": [
        "print ('Olá Mundo')"
      ]
    },
    {
      "cell_type": "markdown",
      "metadata": {
        "id": "CGGBtBdejUD9"
      },
      "source": [
        "**Exercício 2.**\n",
        "  * Faça um Programa que peça um número e então mostre a mensagem O número informado foi [número]."
      ]
    },
    {
      "cell_type": "code",
      "execution_count": null,
      "metadata": {
        "colab": {
          "base_uri": "https://localhost:8080/"
        },
        "id": "8owukoBDTGEZ",
        "outputId": "5b0f5afe-36d1-4592-f023-363b24e5ad92"
      },
      "outputs": [
        {
          "name": "stdout",
          "output_type": "stream",
          "text": [
            "Digite um número: 10\n",
            "O número informado foi 10.\n"
          ]
        }
      ],
      "source": [
        "numero = input ('Digite um número: ')\n",
        "print (f'O número informado foi {numero}.')"
      ]
    },
    {
      "cell_type": "markdown",
      "metadata": {
        "id": "zXauVYklT4Yd"
      },
      "source": [
        "*obs: objetos entra abertura de aspas simples significam tipo STR.*"
      ]
    },
    {
      "cell_type": "markdown",
      "metadata": {
        "id": "swxqJ7ihjd9D"
      },
      "source": [
        "**Exercício 3.**\n",
        "* Faça um Programa que peça dois números e imprima a soma."
      ]
    },
    {
      "cell_type": "code",
      "execution_count": null,
      "metadata": {
        "colab": {
          "base_uri": "https://localhost:8080/"
        },
        "id": "blpFq2SWUSkq",
        "outputId": "1e8c7d0d-72a2-4061-a4d6-28f2d9ba1ef7"
      },
      "outputs": [
        {
          "name": "stdout",
          "output_type": "stream",
          "text": [
            "Digite um número: 12\n",
            "Digite outro número: 12\n",
            "A soma dos dois números é: 24\n"
          ]
        }
      ],
      "source": [
        "numero1 = int(input ('Digite um número: '))\n",
        "numero2 = int(input ('Digite outro número: '))\n",
        "soma = (numero1 + numero2)\n",
        "print (f'A soma dos dois números é: {soma}')"
      ]
    },
    {
      "cell_type": "markdown",
      "metadata": {
        "id": "xfKvfAg2beox"
      },
      "source": [
        "**Exercício 4.**\n",
        "\n",
        "* Faça um Programa que peça as 4 notas bimestrais e mostre a média."
      ]
    },
    {
      "cell_type": "code",
      "execution_count": null,
      "metadata": {
        "colab": {
          "base_uri": "https://localhost:8080/"
        },
        "id": "H5IJk-3lblGe",
        "outputId": "50c38723-5f4e-4e7c-fb23-4fb9de42ca09"
      },
      "outputs": [
        {
          "name": "stdout",
          "output_type": "stream",
          "text": [
            "Digite a nota 1 do 1° mês: 10\n",
            "Digite a nota 2 do 1° mês: 5.75\n",
            "Digite a nota 1 do 2° mês: 8\n",
            "Digite a nota 2 do 2° mês: 6.5\n",
            "Sua média bimestral foi: 7.5\n"
          ]
        }
      ],
      "source": [
        "nota1 = eval(input ('Digite a nota 1 do 1° mês: '))\n",
        "nota2 = eval(input ('Digite a nota 2 do 1° mês: '))\n",
        "nota3 = eval(input ('Digite a nota 1 do 2° mês: '))\n",
        "nota4 = eval(input ('Digite a nota 2 do 2° mês: '))\n",
        "media = int(nota1 + nota2 + nota3 + nota4)\n",
        "print (f'Sua média bimestral foi: {media/4}')"
      ]
    },
    {
      "cell_type": "markdown",
      "metadata": {
        "id": "fGUak8dQg3vI"
      },
      "source": [
        "**Exercício 5.**\n",
        "* Faça um Programa que converta metros para centímetros.\n"
      ]
    },
    {
      "cell_type": "code",
      "execution_count": null,
      "metadata": {
        "colab": {
          "base_uri": "https://localhost:8080/"
        },
        "id": "9D70dVAcg_ML",
        "outputId": "142cc0da-1b3b-44c0-b84b-9e0ad05da677"
      },
      "outputs": [
        {
          "name": "stdout",
          "output_type": "stream",
          "text": [
            "Digite o valor em metros para a conversão em cm: 2.5\n",
            "O valor em cm é: 250.0cm\n"
          ]
        }
      ],
      "source": [
        "metros = eval(input ('Digite o valor em metros para a conversão em cm: '))\n",
        "print (f'O valor em cm é: {metros * 100}cm')"
      ]
    },
    {
      "cell_type": "markdown",
      "metadata": {
        "id": "Msk9s2d5iU4-"
      },
      "source": [
        "**Exercício 6.**\n",
        "* Faça um Programa que peça o raio de um círculo, calcule e mostre sua área."
      ]
    },
    {
      "cell_type": "code",
      "execution_count": null,
      "metadata": {
        "colab": {
          "base_uri": "https://localhost:8080/"
        },
        "id": "bJlT-XvJiezc",
        "outputId": "c8f3ec06-538c-4538-9ca7-eb06437d62e3"
      },
      "outputs": [
        {
          "name": "stdout",
          "output_type": "stream",
          "text": [
            "Calculadora de Círculo\n",
            "Digite o raio do circulo para saber sua área: 50\n",
            "A área do círculo é: 7853 (cm2/m2)\n"
          ]
        }
      ],
      "source": [
        "import math\n",
        "print ('Calculadora de Círculo')\n",
        "raio = eval (input ('Digite o raio do circulo para saber sua área: '))\n",
        "print (f'A área do círculo é: {int(math.pi * raio **2)} (cm2/m2)')"
      ]
    },
    {
      "cell_type": "markdown",
      "metadata": {
        "id": "pPILz0yhqYxM"
      },
      "source": [
        "**Exercício 7.**\n",
        " \n",
        "* Faça um Programa que calcule a área de um quadrado, em seguida mostre o dobro desta área para o usuário."
      ]
    },
    {
      "cell_type": "code",
      "execution_count": null,
      "metadata": {
        "colab": {
          "base_uri": "https://localhost:8080/"
        },
        "id": "LSdUGi51qeEH",
        "outputId": "ee4c3a34-ce91-4d04-92f9-1d50dcdf9de4"
      },
      "outputs": [
        {
          "name": "stdout",
          "output_type": "stream",
          "text": [
            "Calculadora de Área do Quadrado\n",
            "Digite o valor do comprimento do quadrado (m/cm): 10\n",
            "Digite o valor da largura do quadrado (m/cm): 15\n",
            "A área do quadrado é 150 (cm2/m2), sendo o dobro dessa área 300(cm2/m2).\n"
          ]
        }
      ],
      "source": [
        "print ('Calculadora de Área do Quadrado')\n",
        "comp = eval (input('Digite o valor do comprimento do quadrado (m/cm): '))\n",
        "larg = eval (input('Digite o valor da largura do quadrado (m/cm): '))\n",
        "area = (comp * larg)\n",
        "print (f'A área do quadrado é {area} (cm2/m2), sendo o dobro dessa área {area*2}(cm2/m2).')"
      ]
    },
    {
      "cell_type": "markdown",
      "metadata": {
        "id": "0hBWqMUSuBJD"
      },
      "source": [
        "**Exercício 8.**\n",
        "\n",
        "* Faça um Programa que pergunte quanto você ganha por hora e o número de horas trabalhadas no mês. Calcule e mostre o total do seu salário no referido mês.\n"
      ]
    },
    {
      "cell_type": "code",
      "execution_count": null,
      "metadata": {
        "colab": {
          "base_uri": "https://localhost:8080/"
        },
        "id": "KhmNkTd6uIuz",
        "outputId": "dc0749de-a363-424c-87c2-25e410478fe9"
      },
      "outputs": [
        {
          "name": "stdout",
          "output_type": "stream",
          "text": [
            "Descubra o seu salario em horas e dias trabalhados.\n",
            "Digite quanto você ganha em 01 hora trabalhada: 25\n",
            "Digite quantas horas você trabalha em 01 dia: 8\n",
            "Digite quantos dias você trabalhou em 01 semana (ex.: 5): 5\n",
            "Quantas semanas você trabalhou em 01 mês (ex.: 4): 4\n",
            "Digite quantas faltas (descontadas) você teve em 01 mês (ex.: 2): 2\n",
            "Seu salário foi de 3950,00 reais\n"
          ]
        }
      ],
      "source": [
        "print ('Descubra o seu salario em horas e dias trabalhados.')\n",
        "shora = eval( input ('Digite quanto você ganha em 01 hora trabalhada: '))\n",
        "dhora = eval( input ('Digite quantas horas você trabalha em 01 dia: '))\n",
        "dias_semana = int( input ('Digite quantos dias você trabalhou em 01 semana (ex.: 5): '))\n",
        "semana_mes = int( input ('Quantas semanas você trabalhou em 01 mês (ex.: 4): '))\n",
        "folgas_mes = int( input ('Digite quantas faltas (descontadas) você teve em 01 mês (ex.: 2): '))\n",
        "diaria = int( shora * dhora)\n",
        "salario = (diaria * dias_semana * semana_mes)\n",
        "print (f'Seu salário foi de {salario - (shora * folgas_mes)},00 reais')"
      ]
    },
    {
      "cell_type": "markdown",
      "metadata": {
        "id": "biCCWKVE_Tdv"
      },
      "source": [
        "**Exercício 9.**\n",
        "* Faça um Programa que peça a temperatura em graus Fahrenheit, transforme e mostre a temperatura em graus Celsius.\n",
        "C = 5 * ((F-32) / 9)."
      ]
    },
    {
      "cell_type": "code",
      "execution_count": null,
      "metadata": {
        "colab": {
          "base_uri": "https://localhost:8080/"
        },
        "id": "xtL9sElx_bcl",
        "outputId": "1d961dd4-ccbf-4f31-a5dd-dbef0ee3a4e4"
      },
      "outputs": [
        {
          "name": "stdout",
          "output_type": "stream",
          "text": [
            "Conversor de Fahrenheit em Celsius\n",
            "Digite o valor em Fahrenheit para a conversão em Celsius: 79\n",
            "O valor em Celsius é 26.11°C.\n"
          ]
        }
      ],
      "source": [
        "print ('Conversor de Fahrenheit em Celsius')\n",
        "fah = float(input (\"Digite o valor em Fahrenheit para a conversão em Celsius: \"))\n",
        "celsius = (5 * ((fah-32) / 9))\n",
        "print (f\"O valor em Celsius é {celsius:.2f}°C.\")"
      ]
    },
    {
      "cell_type": "markdown",
      "metadata": {
        "id": "xKUHUiMgSz1o"
      },
      "source": [
        "**Exercício 10.**\n",
        "* Faça um Programa que peça a temperatura em graus Celsius, transforme e mostre em graus Fahrenheit."
      ]
    },
    {
      "cell_type": "code",
      "execution_count": null,
      "metadata": {
        "colab": {
          "base_uri": "https://localhost:8080/"
        },
        "id": "3YuKZ-E3z82d",
        "outputId": "4b4c02d7-6678-4309-b640-bc4a3e456f1e"
      },
      "outputs": [
        {
          "name": "stdout",
          "output_type": "stream",
          "text": [
            "Conversor de Celsius em Fahrenheit\n",
            "Digite o valor em Celsius para a conversão em Fahrenheit: 25\n",
            "O valor em Fahrenheit é 77.0°F.\n"
          ]
        }
      ],
      "source": [
        "print ('Conversor de Celsius em Fahrenheit')\n",
        "celsius = float(input (\"Digite o valor em Celsius para a conversão em Fahrenheit: \"))\n",
        "fah = (celsius * 1.8) + 32\n",
        "print (f\"O valor em Fahrenheit é {fah}°F.\")"
      ]
    },
    {
      "cell_type": "markdown",
      "metadata": {
        "id": "OXZB37oTduow"
      },
      "source": [
        "**Exercício 11.**\n",
        "* Faça um Programa que peça 2 números inteiros e um número real. \n",
        "Calcule e mostre:\n",
        "\n",
        "* o produto do dobro do primeiro com metade do segundo.\n",
        "* a soma do triplo do primeiro com o terceiro.\n",
        "* o terceiro elevado ao cubo."
      ]
    },
    {
      "cell_type": "code",
      "execution_count": null,
      "metadata": {
        "colab": {
          "base_uri": "https://localhost:8080/"
        },
        "id": "1Ovl2ehCed4f",
        "outputId": "b1dcf9b6-2ebf-4080-c6e2-c7f89bb331ab"
      },
      "outputs": [
        {
          "name": "stdout",
          "output_type": "stream",
          "text": [
            "Calculando no Python. Para isso, precisaremos de 03 números\n",
            "Digite o 1° número inteiro: 50\n",
            "Digite o 2° número inteiro: 32\n",
            "Agora digite um número real: 75.80\n",
            "O produto do dobro do primeiro com metado do segundo é 1600.0\n",
            "A soma do triplo do primeiro com o terceiro é 225.8\n",
            "O número real elevado ao cubo é 435519.51199999993\n"
          ]
        }
      ],
      "source": [
        "print ('Calculando no Python. Para isso, precisaremos de 03 números')\n",
        "numero1 = int(input ('Digite o 1° número inteiro: '))\n",
        "numero2 = int(input ('Digite o 2° número inteiro: '))\n",
        "numero3 = float(input ('Agora digite um número real: '))\n",
        "calculo1 = (numero1*2) * (numero2/2)\n",
        "calculo2 = (numero1*3) + numero3\n",
        "calculo3 = numero3**3\n",
        "print (f'O produto do dobro do primeiro com metado do segundo é {calculo1}')\n",
        "print (f'A soma do triplo do primeiro com o terceiro é {calculo2}')\n",
        "print (f'O número real elevado ao cubo é {calculo3}')"
      ]
    },
    {
      "cell_type": "markdown",
      "metadata": {
        "id": "NElYb986izVY"
      },
      "source": [
        "**Exercício 12.**\n",
        "* Tendo como dados de entrada a altura de uma pessoa, construa um algoritmo que calcule seu peso ideal, usando a seguinte fórmula: (72.7*altura) - 58"
      ]
    },
    {
      "cell_type": "code",
      "execution_count": null,
      "metadata": {
        "colab": {
          "base_uri": "https://localhost:8080/"
        },
        "id": "IelATr0di_aR",
        "outputId": "7202c250-7aa1-467c-8c55-bbc85659d7a8"
      },
      "outputs": [
        {
          "name": "stdout",
          "output_type": "stream",
          "text": [
            "Saiba seu peso ideal com base na sua altura:\n",
            "Informe-nos sua altura: 1.69\n",
            "Seu peso ideal seria: 64.86\n"
          ]
        }
      ],
      "source": [
        "print ('Saiba seu peso ideal com base na sua altura:')\n",
        "altura1 = float( input('Informe-nos sua altura: '))\n",
        "peso = float( (72.7 * altura1) - 58)\n",
        "print (f'Seu peso ideal seria: {peso:.2f}')\n"
      ]
    },
    {
      "cell_type": "markdown",
      "metadata": {
        "id": "fpm03v2b5Ji9"
      },
      "source": [
        "**Exercício 13.**\n",
        "* Tendo como dado de entrada a altura (h) de uma pessoa, construa um algoritmo que calcule seu peso ideal, utilizando as seguintes fórmulas:\n",
        "  * Para homens: (72.7*h) - 58\n",
        "  * Para mulheres: (62.1*h) - 44.7"
      ]
    },
    {
      "cell_type": "code",
      "execution_count": null,
      "metadata": {
        "colab": {
          "base_uri": "https://localhost:8080/"
        },
        "id": "2qZykOrx5aPn",
        "outputId": "6f9442be-cab3-44a3-9702-3e2a6894bbb4"
      },
      "outputs": [
        {
          "name": "stdout",
          "output_type": "stream",
          "text": [
            "Saiba seu peso ideal com base na sua altura!\n",
            "Para começarmos informe-nos seu sexo (homem/mulher): HOmEm\n",
            "Informe-nos sua altura: 1.87\n",
            "Seu peso ideal seria: 77.95kgs\n"
          ]
        }
      ],
      "source": [
        "print ('Saiba seu peso ideal com base na sua altura!')\n",
        "answer = (input ('Para começarmos informe-nos seu sexo (homem/mulher): '))\n",
        "answer = answer.lower()\n",
        "if answer == \"homem\":\n",
        "  altura = float( input('Informe-nos sua altura: '))\n",
        "  peso = float( (72.7 * altura) - 58)\n",
        "  print (f'Seu peso ideal seria: {peso:.2f}kgs')\n",
        "\n",
        "if answer == \"mulher\":\n",
        "  altura = float( input('Informe-nos sua altura: '))\n",
        "  peso = float( (62.1 * altura) - 44.7)\n",
        "  print (f'Seu peso ideal seria: {peso:.2f}kgs')"
      ]
    },
    {
      "cell_type": "markdown",
      "metadata": {
        "id": "l7uo-V28A6L0"
      },
      "source": [
        "**Exercício 14.**\n",
        "* João Papo-de-Pescador, homem de bem, comprou um microcomputador para controlar o rendimento diário de seu trabalho. Toda vez que ele traz um peso de peixes maior que o estabelecido pelo regulamento de pesca do estado de São Paulo (50 quilos) deve pagar uma multa de R$ 4,00 por quilo excedente. **João precisa que você faça um programa que leia a variável peso (peso de peixes) e calcule o excesso.** Gravar na variável excesso a quantidade de quilos além do limite e na variável multa o valor da multa que João deverá pagar. Imprima os dados do programa com as mensagens adequadas."
      ]
    },
    {
      "cell_type": "code",
      "execution_count": null,
      "metadata": {
        "colab": {
          "base_uri": "https://localhost:8080/"
        },
        "id": "ejkjPvNLBTIV",
        "outputId": "80fc31bc-7783-4548-e0e5-0985cfb30584"
      },
      "outputs": [
        {
          "name": "stdout",
          "output_type": "stream",
          "text": [
            "Vamos saber o tamanho do prejuízo do João Papo-de-Pescador!\n",
            "João, quantos kilos de peixe você pescou hoje? 217.82\n",
            "Tendo em vista que você excedeu 167.82kgs, sua multa será no valor de R$671.28 .\n"
          ]
        }
      ],
      "source": [
        "print ('Vamos saber o tamanho do prejuízo do João Papo-de-Pescador!')\n",
        "peixes = float( input('João, quantos kilos de peixe você pescou hoje? '))\n",
        "excedente = float(peixes - 50)\n",
        "print (f'Tendo em vista que você excedeu {excedente}kgs, sua multa será no valor de R${excedente * 4:.2f} .')"
      ]
    },
    {
      "cell_type": "markdown",
      "metadata": {
        "id": "0dWfPXNFDdI9"
      },
      "source": [
        "**Exercício 15.**\n",
        "* Faça um Programa que pergunte quanto você ganha por hora e o número de horas trabalhadas no mês. Calcule e mostre o total do seu salário no referido mês, sabendo-se que são descontados 11% para o Imposto de Renda, 8% para o INSS e 5% para o sindicato, faça um programa que nos dê:\n",
        "\n",
        "  a) salário bruto.\n",
        "  \n",
        "  b) quanto pagou ao INSS.\n",
        "  \n",
        "  c) quanto pagou ao sindicato.\n",
        "  \n",
        "  d) o salário líquido.\n",
        "\n",
        "  * Calcule os descontos e o salário líquido, conforme a tabela abaixo:\n",
        "    * Salário Bruto : R$\n",
        "    * IR (11%) : R$\n",
        "    * INSS (8%) : R$\n",
        "    * Sindicato ( 5%) : R$\n",
        "    * Salário Liquido : R$\n",
        "    \n",
        "Obs.: Salário Bruto - Descontos = Salário Líquido"
      ]
    },
    {
      "cell_type": "code",
      "execution_count": null,
      "metadata": {
        "colab": {
          "base_uri": "https://localhost:8080/"
        },
        "id": "7Iiha4LgCvQr",
        "outputId": "6f66746a-93ea-4d66-a4af-6749d48787cc"
      },
      "outputs": [
        {
          "name": "stdout",
          "output_type": "stream",
          "text": [
            "Holerite Eletrônico Mensal\n",
            "Informe quanto você ganha por hora trabalhada: 25\n",
            "Informe quantas horas você trabalha no mês: 160\n",
            "De acordo com as informações fornecidas:\n",
            "Seu salário bruto foi de: R$ 4000.00\n",
            "Contribuição de IR(11%): R$ 440.00\n",
            "Contribuição de INSS(8%): R$ 320.00\n",
            "Contribuição ao Sindicato(5%): R$ 200.00\n",
            "Valor do Salário Liquido: R$ 3040.00\n"
          ]
        }
      ],
      "source": [
        "print ('Holerite Eletrônico Mensal')\n",
        "hora_t = float( input('Informe quanto você ganha por hora trabalhada: '))\n",
        "hora_mes = float( input('Informe quantas horas você trabalha no mês: '))\n",
        "print ('De acordo com as informações fornecidas:')\n",
        "salario = (hora_t * hora_mes)\n",
        "ir = (salario * 11/100)\n",
        "inss = (salario * 8/100)\n",
        "sindicato = (salario * 5/100)\n",
        "descontos = (ir + inss + sindicato)\n",
        "print (f'Seu salário bruto foi de: R$ {salario:.2f}')\n",
        "print (f'Contribuição de IR(11%): R$ {ir:.2f}')\n",
        "print (f'Contribuição de INSS(8%): R$ {inss:.2f}')\n",
        "print (f'Contribuição ao Sindicato(5%): R$ {sindicato:.2f}')\n",
        "print (f'Valor do Salário Liquido: R$ {salario - descontos:.2f}')"
      ]
    },
    {
      "cell_type": "markdown",
      "metadata": {
        "id": "Shi576t5Hp4M"
      },
      "source": [
        "**Exercício 16.**\n",
        "* Faça um programa para uma loja de tintas. \n",
        "\n",
        "O programa deverá pedir o tamanho em metros quadrados da área a ser pintada.\n",
        "\n",
        "Considere que a cobertura da tinta é de 1 litro para cada 3 metros quadrados e que a tinta é vendida em latas de 18 litros, que custam R$ 80,00. \n",
        "\n",
        "* Informe ao usuário a quantidades de latas de tinta a serem compradas e o preço total.\n"
      ]
    },
    {
      "cell_type": "code",
      "execution_count": null,
      "metadata": {
        "colab": {
          "base_uri": "https://localhost:8080/"
        },
        "id": "VquGghjzETZ9",
        "outputId": "567b7a0b-547f-4382-9dd9-456902326100"
      },
      "outputs": [
        {
          "name": "stdout",
          "output_type": "stream",
          "text": [
            "Olá, vamos descobrir quantas latas de tinta você precisa!\n",
            "Digite o tamanho da área a ser pintada em m²: 24\n",
            "Você precisará de 1 latas. Total da compra: R$ 80.00.\n"
          ]
        }
      ],
      "source": [
        "import math\n",
        "\n",
        "print ('Olá, vamos descobrir quantas latas de tinta você precisa!')\n",
        "area_a_ser_p = int( input ('Digite o tamanho da área a ser pintada em m²: '))\n",
        "\n",
        "litros_p_metro = area_a_ser_p / 3\n",
        "litros_por_lata = 18\n",
        "numero_de_latas = litros_p_metro / litros_por_lata\n",
        "# print (litros_p_metro , numero_de_latas)\n",
        "latas_a_serem_compradas = math.ceil (numero_de_latas)\n",
        "custo_latas = latas_a_serem_compradas * 80\n",
        "\n",
        "print (f'Você precisará de {latas_a_serem_compradas} latas. Total da compra: R$ {custo_latas:.2f}.')"
      ]
    },
    {
      "cell_type": "code",
      "execution_count": null,
      "metadata": {
        "id": "gVv8YjtvK7rk"
      },
      "outputs": [],
      "source": [
        ""
      ]
    },
    {
      "cell_type": "markdown",
      "metadata": {
        "id": "W69J7Q6lSb8P"
      },
      "source": [
        "**Exercício 17.**\n",
        "\n",
        "Faça um Programa para uma loja de tintas. O programa deverá pedir o tamanho em metros quadrados da área a ser pintada. Considere que a cobertura da tinta é de 1 litro para cada 6 metros quadrados e que a tinta é vendida em latas de 18 litros, que custam 80 reais ou em galões de 3,6 litros, que custam 25 reais.\n",
        "\n",
        "Informe ao usuário as quantidades de tinta a serem compradas e os respectivos preços em 3 situações:\n",
        "\n",
        "* comprar apenas latas de 18 litros;\n",
        "* comprar apenas galões de 3,6 litros;\n",
        "* misturar latas e galões, de forma que o desperdício de tinta seja menor.\n",
        "* Acrescente 10% de folga e sempre arredonde os valores para cima, isto é, considere latas cheias."
      ]
    },
    {
      "cell_type": "code",
      "execution_count": null,
      "metadata": {
        "colab": {
          "base_uri": "https://localhost:8080/"
        },
        "id": "XMTOdDzETP-y",
        "outputId": "feb92440-7e32-4142-d489-051bb6e97928"
      },
      "outputs": [
        {
          "name": "stdout",
          "output_type": "stream",
          "text": [
            "Olá, vamos descobrir quantas latas de tinta você precisa!\n",
            "Digite o tamanho da área a ser pintada em m²: 200\n",
            "Você precisará de 3 latas de 18 litros. Total da compra: R$ 240.00.\n",
            "Você precisará de 11 galões de 3.6 litros. Total da compra: R$ 275.00.\n",
            "Você precisará de 2 latas de 18 litros mais 1 de 3.6 litros. Total da compra: R$ 185.00.\n"
          ]
        }
      ],
      "source": [
        "import math\n",
        "\n",
        "print ('Olá, vamos descobrir quantas latas de tinta você precisa!')\n",
        "area_a_ser_p = float( input ('Digite o tamanho da área a ser pintada em m²: '))\n",
        "area_com_folga = area_a_ser_p * 1.1\n",
        "\n",
        "# Para latas de 18L por R$80\n",
        "litros_por_metro = 6\n",
        "litros_a_serem_usados = area_com_folga / litros_por_metro\n",
        "litros_por_lata = 18\n",
        "numero_de_latas = math.ceil (litros_a_serem_usados / litros_por_lata)\n",
        "custo_com_apenas_latas = numero_de_latas * 80\n",
        "print (f'Você precisará de {numero_de_latas} latas de 18 litros. Total da compra: R$ {custo_com_apenas_latas:.2f}.')\n",
        "\n",
        "# Para galões de 3,6L por R$25\n",
        "litros_por_galao = 3.6\n",
        "numero_de_galoes = math.ceil (litros_a_serem_usados / litros_por_galao)\n",
        "custo_com_apenas_galoes = numero_de_galoes * 25\n",
        "print (f'Você precisará de {numero_de_galoes} galões de 3.6 litros. Total da compra: R$ {custo_com_apenas_galoes:.2f}.')\n",
        "\n",
        "# Compra de tinta otimizada por valor\n",
        "numero_de_latas = math.floor (litros_a_serem_usados / litros_por_lata)\n",
        "valor_de_latas = numero_de_latas * 80\n",
        "# resto = latas_a_serem_compradas % litros_por_lata\n",
        "litros_faltantes = litros_a_serem_usados % litros_por_lata\n",
        "\n",
        "numero_de_galoes = math.ceil (litros_faltantes / litros_por_galao)\n",
        "valor_de_galoes = numero_de_galoes * 25\n",
        "\n",
        "valor_total = valor_de_latas + valor_de_galoes\n",
        "print (f'Você precisará de {numero_de_latas} latas de 18 litros mais {numero_de_galoes} de 3.6 litros. Total da compra: R$ {valor_total:.2f}.')"
      ]
    },
    {
      "cell_type": "markdown",
      "metadata": {
        "id": "0LP3-8SFg5oV"
      },
      "source": [
        "**Exercício 18.**\n",
        "* Faça um programa que peça o tamanho de um arquivo para download (em MB) e a velocidade de um link de Internet (em Mbps), calcule e informe o tempo aproximado de download do arquivo usando este link (em minutos).\n"
      ]
    },
    {
      "cell_type": "code",
      "execution_count": null,
      "metadata": {
        "colab": {
          "base_uri": "https://localhost:8080/"
        },
        "id": "-SCUHRFrhFSq",
        "outputId": "5c9c65d8-78e8-476d-a67b-f5b437d1b86e"
      },
      "outputs": [
        {
          "name": "stdout",
          "output_type": "stream",
          "text": [
            "Informe do tamanho do arquivo em MegaByte: 100\n",
            "Informe a velocidade do link em Mbps: 250\n",
            "O tempo aproximado de download é de 0.05 minutos\n"
          ]
        }
      ],
      "source": [
        "arquivo = float(input(\"Informe do tamanho do arquivo em MegaByte: \"))\n",
        "link = float(input(\"Informe a velocidade do link em Mbps: \"))\n",
        "tempo = ((arquivo * 8) / link) / 60\n",
        "print (\"O tempo aproximado de download é de %.2f minutos\" %tempo)"
      ]
    },
    {
      "cell_type": "code",
      "execution_count": null,
      "metadata": {
        "id": "ayYcn7agrpRz"
      },
      "outputs": [],
      "source": [
        ""
      ]
    },
    {
      "cell_type": "markdown",
      "metadata": {
        "id": "GB60_MOAr8vm"
      },
      "source": [
        "# [Estrutura de Decisão](https://wiki.python.org.br/EstruturaDeDecisao)\n",
        "✔️ Concluído."
      ]
    },
    {
      "cell_type": "markdown",
      "metadata": {
        "id": "7KeY_ZXosKcq"
      },
      "source": [
        "**Exercício 1.**\n",
        "* Faça um Programa que peça dois números e imprima o maior deles."
      ]
    },
    {
      "cell_type": "code",
      "execution_count": null,
      "metadata": {
        "colab": {
          "base_uri": "https://localhost:8080/"
        },
        "id": "w9TfXnNJsIEK",
        "outputId": "89b6f1bf-8374-42cc-9870-00248b8d8bd1"
      },
      "outputs": [
        {
          "name": "stdout",
          "output_type": "stream",
          "text": [
            "Insira um número: 45\n",
            "Insira outro número: 45.57\n",
            "O maior número é o número 45.57\n"
          ]
        }
      ],
      "source": [
        "a = float( input('Insira um número: '))\n",
        "b = float( input('Insira outro número: '))\n",
        "if a > b:\n",
        "  print (f'O maior número é o número {a}')\n",
        "if a < b:\n",
        "  print (f'O maior número é o número {b}')\n",
        "if a==b:\n",
        "  print ('Os números são iguais.')\n"
      ]
    },
    {
      "cell_type": "markdown",
      "metadata": {
        "id": "3LzXMJoZsTjL"
      },
      "source": [
        "**Exercício 2.**\n",
        "* Faça um Programa que peça um valor e mostre na tela se o valor é positivo ou negativo.\n"
      ]
    },
    {
      "cell_type": "code",
      "execution_count": null,
      "metadata": {
        "colab": {
          "base_uri": "https://localhost:8080/"
        },
        "id": "tKE1jR80sW06",
        "outputId": "81d51fea-5925-43f7-cc8a-2216e4f73d2c"
      },
      "outputs": [
        {
          "name": "stdout",
          "output_type": "stream",
          "text": [
            "Insira um número: 0\n",
            "O numero informado é igual a 0.\n"
          ]
        }
      ],
      "source": [
        "a = float( input('Insira um número: '))\n",
        "if a > 0:\n",
        "  print ('O numero informado é positivo.')\n",
        "elif a < 0:\n",
        "  print ('O numero informado é negativo.')\n",
        "else:\n",
        "  print ('O numero informado é igual a 0.')"
      ]
    },
    {
      "cell_type": "markdown",
      "metadata": {
        "id": "P7Tg8-3Usarn"
      },
      "source": [
        "**Exercício 3.**\n",
        "* Faça um Programa que verifique se uma letra digitada é \"F\" ou \"M\". Conforme a letra escrever: F - Feminino, M - Masculino, Sexo Inválido."
      ]
    },
    {
      "cell_type": "code",
      "execution_count": null,
      "metadata": {
        "colab": {
          "base_uri": "https://localhost:8080/"
        },
        "id": "GugleDtZse8C",
        "outputId": "4ab19977-e83d-4bbe-80ef-961ed5f65e92"
      },
      "outputs": [
        {
          "name": "stdout",
          "output_type": "stream",
          "text": [
            "Informe o seu sexo. (\"M\" para Masculino / \"F\" para Feminino): m\n",
            "Você é do sexo masculino.\n"
          ]
        }
      ],
      "source": [
        "sexo = input('Informe o seu sexo. (\"M\" para Masculino / \"F\" para Feminino): ')\n",
        "sexo = sexo.upper()\n",
        "if sexo == 'M':\n",
        "  print ('Você é do sexo masculino.')\n",
        "elif sexo == 'F':\n",
        "  print ('Você é do sexo feminino.')\n",
        "else:\n",
        "  print ('Sexo Inválido.')"
      ]
    },
    {
      "cell_type": "markdown",
      "metadata": {
        "id": "9gjcHig7HU3f"
      },
      "source": [
        "**Exercício 4.**\n",
        "* Faça um Programa que verifique se uma letra digitada é vogal ou consoante."
      ]
    },
    {
      "cell_type": "code",
      "execution_count": null,
      "metadata": {
        "colab": {
          "base_uri": "https://localhost:8080/"
        },
        "id": "B3nx347qyRa8",
        "outputId": "c820659b-6c33-4e58-9521-787144fdc34a"
      },
      "outputs": [
        {
          "name": "stdout",
          "output_type": "stream",
          "text": [
            "Digite uma letra: 10\n",
            "O que você digitou não é uma letra.\n"
          ]
        }
      ],
      "source": [
        "vogais = ['a', 'e', 'i', 'o', 'u']\n",
        "\n",
        "letra = input(\"Digite uma letra: \")\n",
        "letra = letra.lower()\n",
        "if letra in vogais:\n",
        "  print (\"Você digitou uma vogal.\")\n",
        "elif letra.isalpha():\n",
        "  print (\"Você digitou uma consoante.\")\n",
        "else:\n",
        "  print (\"O que você digitou não é uma letra.\")"
      ]
    },
    {
      "cell_type": "markdown",
      "metadata": {
        "id": "B4zP07fhIjR3"
      },
      "source": [
        "**Exercício 5.**\n",
        "* Faça um programa para a leitura de duas notas parciais de um aluno. O programa deve calcular a média alcançada por aluno e apresentar:\n",
        "    * A mensagem \"Aprovado\", se a média alcançada for maior ou igual a sete;\n",
        "    * A mensagem \"Reprovado\", se a média for menor do que sete;\n",
        "    * A mensagem \"Aprovado com Distinção\", se a média for igual a dez."
      ]
    },
    {
      "cell_type": "code",
      "execution_count": null,
      "metadata": {
        "colab": {
          "base_uri": "https://localhost:8080/"
        },
        "id": "2ltPn5sCH9jR",
        "outputId": "43fb846c-c03e-4fa6-da65-5d24f84925fc"
      },
      "outputs": [
        {
          "name": "stdout",
          "output_type": "stream",
          "text": [
            "Checagem de aprovação para o próximo grau de ensino.\n",
            "Por favor, insira o nome do aluno: Luiz Carlos\n",
            "Informe a 1ª nota: 4.5\n",
            "Informe a 2ª nota: 10\n",
            "O aluno Luiz Carlos foi Aprovado. Sua média bimestral foi 7.25.\n"
          ]
        }
      ],
      "source": [
        "print ('Checagem de aprovação para o próximo grau de ensino.')\n",
        "aluno = input('Por favor, insira o nome do aluno: ')\n",
        "nota1 = float( input('Informe a 1ª nota: '))\n",
        "nota2= float( input('Informe a 2ª nota: '))\n",
        "\n",
        "if nota1 and nota2 > 10: \n",
        "  quit()\n",
        "  print ('Valor de nota invalido.')\n",
        "  \n",
        "media = (nota1+nota2)/2\n",
        "if media >= 7 and media < 9.75:\n",
        "  print (f'O aluno {aluno} foi Aprovado. Sua média bimestral foi {media:.2f}.')\n",
        "if media == 10:\n",
        "  print (f'O aluno {aluno} foi Aprovado com Distinção. Sua média bimestral foi {media:.2f}.')\n",
        "if media < 7:\n",
        "  print (f'O aluno {aluno} infelizmente foi Reprovado. Sua média bimestral foi {media:.2f}.')"
      ]
    },
    {
      "cell_type": "markdown",
      "metadata": {
        "id": "NEDyD9DQ4wzQ"
      },
      "source": [
        "**Exercício 6.**\n",
        "* Faça um Programa que leia três números e mostre o maior deles.\n"
      ]
    },
    {
      "cell_type": "code",
      "execution_count": null,
      "metadata": {
        "colab": {
          "base_uri": "https://localhost:8080/"
        },
        "id": "2tiY3wby4NY9",
        "outputId": "0a0003dd-7803-4aec-812a-48c9568d73db"
      },
      "outputs": [
        {
          "name": "stdout",
          "output_type": "stream",
          "text": [
            "Deixe-me descobrir qual o maior número.\n",
            "Digite o 1º numero: 145.45\n",
            "Digite o 2º numero: 145.75\n",
            "Digite o 3º numero: 145.43\n",
            "O número 145.75 é o maior.\n"
          ]
        }
      ],
      "source": [
        "print ('Deixe-me descobrir qual o maior número. Insira 03 números distintos nos campos abaixo.')\n",
        "n_1 = input('Digite o 1º numero: ')\n",
        "n_2 = input('Digite o 2º numero: ')\n",
        "n_3 = input('Digite o 3º numero: ')\n",
        "\n",
        "# Maior numero.\n",
        "if n_1 > n_2 and n_1 > n_3:\n",
        "  quit()\n",
        "  print (f'O número {n_1} é o maior.') \n",
        "\n",
        "if n_2 > n_1 and n_2 > n_3:\n",
        "  quit()\n",
        "  print (f'O número {n_2} é o maior.') \n",
        "\n",
        "if n_3 > n_2 and n_3 > n_1:\n",
        "  quit()\n",
        "  print (f'O número {n_3} é o maior.')\n",
        "\n",
        "# Caso dois numeros forem iguais.\n",
        "elif n_1 == n_2 or n_1 == n_3:\n",
        "  quit()\n",
        "  print (f'Obs: O número {n_1} foi informado mais de 01 vez.')\n",
        "\n",
        "elif n_2 == n_1 or n_2 == n_3:\n",
        "  print (f'Obs: O número {n_2} foi informado mais de 01 vez.') \n",
        "\n",
        "elif n_3 == n_2 or n_3 == n_1:\n",
        "  print (f'Obs: O número {n_3} foi informado mais de 01 vez.') \n"
      ]
    },
    {
      "cell_type": "code",
      "execution_count": null,
      "metadata": {
        "id": "cmw7S-jo7Xka"
      },
      "outputs": [],
      "source": [
        ""
      ]
    },
    {
      "cell_type": "markdown",
      "metadata": {
        "id": "ixJPcn1G9ihq"
      },
      "source": [
        "**Excercício 7.**\n",
        "* Faça um Programa que leia três números e mostre o maior e o menor deles.\n"
      ]
    },
    {
      "cell_type": "code",
      "execution_count": null,
      "metadata": {
        "colab": {
          "base_uri": "https://localhost:8080/"
        },
        "id": "fZq7gFEE-KTy",
        "outputId": "eba3d088-7613-4976-90e8-d019dbb990bc"
      },
      "outputs": [
        {
          "name": "stdout",
          "output_type": "stream",
          "text": [
            "Deixe-me descobrir qual o maior e o menor número. Insira 03 números distintos nos campos abaixo.\n",
            "Digite o 1º numero: 57.78\n",
            "Digite o 2º numero: 57.77\n",
            "Digite o 3º numero: 57\n",
            "O número 57.78 é o maior.\n",
            "O número 57 é o menor.\n"
          ]
        }
      ],
      "source": [
        "print ('Deixe-me descobrir qual o maior e o menor número. Insira 03 números distintos nos campos abaixo.')\n",
        "n_1 = input('Digite o 1º numero: ')\n",
        "n_2 = input('Digite o 2º numero: ')\n",
        "n_3 = input('Digite o 3º numero: ')\n",
        "\n",
        "# Maior numero.\n",
        "if n_1 > n_2 and n_1 > n_3:\n",
        "  quit()\n",
        "  print (f'O número {n_1} é o maior.') \n",
        "\n",
        "if n_2 > n_1 and n_2 > n_3:\n",
        "  quit()\n",
        "  print (f'O número {n_2} é o maior.') \n",
        "\n",
        "if n_3 > n_2 and n_3 > n_1:\n",
        "  quit()\n",
        "  print (f'O número {n_3} é o maior.')\n",
        "\n",
        "# Menor numero.\n",
        "if n_1 < n_2 and n_1 < n_3:\n",
        "  quit()\n",
        "  print (f'O número {n_1} é o menor.') \n",
        "\n",
        "if n_2 < n_1 and n_2 < n_3:\n",
        "  quit()\n",
        "  print (f'O número {n_2} é o menor.') \n",
        "\n",
        "if n_3 < n_2 and n_3 < n_1:\n",
        "  quit()\n",
        "  print (f'O número {n_3} é o menor.')\n",
        "\n",
        "\n",
        "# Caso dois numeros forem iguais.\n",
        "elif n_1 == n_2 or n_1 == n_3:\n",
        "  quit()\n",
        "  print (f'Obs: O número {n_1} foi informado mais de 01 vez.')\n",
        "\n",
        "elif n_2 == n_1 or n_2 == n_3:\n",
        "  print (f'Obs: O número {n_2} foi informado mais de 01 vez.') \n",
        "\n",
        "elif n_3 == n_2 or n_3 == n_1:\n",
        "  print (f'Obs: O número {n_3} foi informado mais de 01 vez.') "
      ]
    },
    {
      "cell_type": "code",
      "execution_count": null,
      "metadata": {
        "id": "mOQoMtla-h7G"
      },
      "outputs": [],
      "source": [
        ""
      ]
    },
    {
      "cell_type": "markdown",
      "metadata": {
        "id": "Qf6ZcfvTBVCM"
      },
      "source": [
        "**Exercício 8.**\n",
        "* Faça um programa que pergunte o preço de três produtos e informe qual produto você deve comprar, sabendo que a decisão é sempre pelo mais barato.\n"
      ]
    },
    {
      "cell_type": "code",
      "execution_count": null,
      "metadata": {
        "colab": {
          "base_uri": "https://localhost:8080/"
        },
        "id": "XuRToxMvBY84",
        "outputId": "b309f094-1791-4c04-ae4e-a641893b13ae"
      },
      "outputs": [
        {
          "name": "stdout",
          "output_type": "stream",
          "text": [
            "Seletor de produto mais econômico. Qual o valor dos 03 produtos abaixo?\n",
            "LG Smart TV LED 4k 65 polegadas: R$ 4523\n",
            "LG Smart TV UltraHD 4k 65 polegadas (Americanas): R$ 20000\n",
            "LG Smart TV UltraHD 4k 65 polegadas (Magazine Luiza): R$ 3999\n",
            "O produto LG Smart TV UltraHD 4k 65 polegadas (Magazine Luiza), no valor de  R$ 3999.00 é o mais em conta entre as 03 opções.\n"
          ]
        }
      ],
      "source": [
        "print ('Seletor de produto mais econômico. Qual o valor dos 03 produtos abaixo?')\n",
        "prod1 = float( input ('LG Smart TV LED 4k 65 polegadas: R$ '))\n",
        "prod2 = float( input ('LG Smart TV UltraHD 4k 65 polegadas (Americanas): R$ '))\n",
        "prod3 = float( input ('LG Smart TV UltraHD 4k 65 polegadas (Magazine Luiza): R$ '))\n",
        "\n",
        "# TV mais barata.\n",
        "if prod1 < prod2 and prod1 < prod3:\n",
        "  quit()\n",
        "  print (f'O produto LG Smart TV LED 4k 65 polegadas, no valor de R$ {prod1:.2f} é o mais em conta entre as 03 opções.') \n",
        "\n",
        "if prod2 < prod1 and prod2 < prod3:\n",
        "  quit()\n",
        "  print (f'O produto LG Smart TV UltraHD 4k 65 polegadas (Americanas), no valor de R$ {prod2:.2f} é o mais em conta entre as 03 opções.') \n",
        "\n",
        "if prod3 < prod2 and prod3 < prod1:\n",
        "  quit()\n",
        "  print (f'O produto LG Smart TV UltraHD 4k 65 polegadas (Magazine Luiza), no valor de  R$ {prod3:.2f} é o mais em conta entre as 03 opções.')"
      ]
    },
    {
      "cell_type": "markdown",
      "metadata": {
        "id": "g_5HLER4FZdL"
      },
      "source": [
        "**Exercício 9.**\n",
        "* Faça um Programa que leia três números e mostre-os em ordem decrescente.\n"
      ]
    },
    {
      "cell_type": "code",
      "execution_count": null,
      "metadata": {
        "colab": {
          "base_uri": "https://localhost:8080/"
        },
        "id": "Sp9OIyH_GvvD",
        "outputId": "a8e8c192-fe91-47f7-a6f6-8d495e71d1b0"
      },
      "outputs": [
        {
          "name": "stdout",
          "output_type": "stream",
          "text": [
            "Insira um numero: 587\n",
            "Insira um numero: 888.1\n",
            "Insira um numero: 888.0\n",
            "[888.1, 888.0, 587]\n"
          ]
        }
      ],
      "source": [
        "lista = []\n",
        "numeros = 3\n",
        "for i in range(numeros):\n",
        "    elemento = eval(input('Insira um numero: '))\n",
        "    lista.append(elemento)\n",
        "\n",
        "lista.sort(reverse = True) # ativa ordem decrescente dos elementos\n",
        "print(lista)"
      ]
    },
    {
      "cell_type": "markdown",
      "metadata": {
        "id": "bOwsJh0wKrnf"
      },
      "source": [
        "**Exercício 10.**\n",
        "* Faça um Programa que pergunte em que turno você estuda. Peça para digitar M-matutino ou V-Vespertino ou N- Noturno. Imprima a mensagem \"Bom Dia!\", \"Boa Tarde!\" ou \"Boa Noite!\" ou \"Valor Inválido!\", conforme o caso.\n"
      ]
    },
    {
      "cell_type": "code",
      "execution_count": null,
      "metadata": {
        "colab": {
          "base_uri": "https://localhost:8080/"
        },
        "id": "4AbXZ5HuHIB_",
        "outputId": "205a41af-cd97-4019-d755-163107538c4b"
      },
      "outputs": [
        {
          "output_type": "stream",
          "name": "stdout",
          "text": [
            "Olá! Qual turno você estuda?\n",
            "Digite \"M\" para Manhã / \"V\" para Vespertino / \"N\" para Noturno: M\n",
            "Bom dia e bons estudos!!\n"
          ]
        }
      ],
      "source": [
        "print ('Olá! Qual turno você estuda?')\n",
        "turno = input('Digite \"M\" para Manhã / \"V\" para Vespertino / \"N\" para Noturno: ')\n",
        "turno = turno.upper()\n",
        "if turno == 'M':\n",
        "  print ('Bom dia e bons estudos!!')\n",
        "elif turno == 'V':\n",
        "  print ('Boa tarde e bons estudos!!')\n",
        "elif turno == 'N':\n",
        "  print ('Boa noite e bons estudos!!')\n",
        "else:\n",
        "  print ('Valor Inválido.')"
      ]
    },
    {
      "cell_type": "markdown",
      "source": [
        "**Exercício 11.**\n",
        "* As Organizações Tabajara resolveram dar um aumento de salário aos seus colaboradores e lhe contraram para desenvolver o programa que calculará os reajustes.\n",
        "\n",
        "* Faça um programa que recebe o salário de um colaborador e o reajuste segundo o seguinte critério, baseado no salário atual:\n",
        "    * salários até R$ 280,00 (incluindo) : aumento de 20%\n",
        "    * salários entre R$ 280,00 e R$ 700,00 : aumento de 15%\n",
        "    * salários entre R$ 700,00 e R$ 1500,00 : aumento de 10%\n",
        "    * salários de R$ 1500,00 em diante : aumento de 5%.\n",
        "\n",
        "Após o aumento ser realizado, informe na tela:\n",
        "* o salário antes do reajuste;\n",
        "* o percentual de aumento aplicado;\n",
        "* o valor do aumento;\n",
        "* o novo salário, após o aumento."
      ],
      "metadata": {
        "id": "FlA2HJ7ZOVmY"
      }
    },
    {
      "cell_type": "code",
      "source": [
        "print ('Calculadora de Aumento de Salário das Organizações Tabajara.')\n",
        "salario = float(input('Por favor, digite o valor do seu salário mensal: '))\n",
        "\n",
        "vinte_porcento = salario * 20/100\n",
        "quinze_porcento = salario * 15/100\n",
        "dez_porcento = salario * 10/100\n",
        "cinco_porcento = salario * 5/100\n",
        "\n",
        "if salario <= 280:\n",
        "  print (f'Conforme informado, seu salario era de R$ {salario:.2f}.')\n",
        "  print (f'Logo, o percentual de reajuste foi de 20%.')\n",
        "  print (f'Sendo assim, o valor do aumento salarial corresponde a R$ {vinte_porcento:.2f}.')\n",
        "  print (f'O valor do seu novo salário é de R$ {salario + vinte_porcento:.2f}.')\n",
        "\n",
        "elif salario > 280 and salario <= 700:\n",
        "  print (f'Conforme informado, seu salario era de R$ {salario:.2f}.')\n",
        "  print (f'Logo, o percentual de reajuste foi de 15%.')\n",
        "  print (f'Sendo assim, o valor do aumento salarial corresponde a R$ {quinze_porcento:.2f}.')\n",
        "  print (f'O valor do seu novo salário é de R$ {salario + quinze_porcento:.2f}.')\n",
        "\n",
        "elif salario > 700 and salario <= 1500:\n",
        "  print (f'Conforme informado, seu salario era de R$ {salario:.2f}.')\n",
        "  print (f'Logo, o percentual de reajuste foi de 10%.')\n",
        "  print (f'Sendo assim, o valor do aumento salarial corresponde a R$ {dez_porcento:.2f}.')\n",
        "  print (f'O valor do seu novo salário é de R$ {salario + dez_porcento:.2f}.')\n",
        "\n",
        "if salario > 1500:\n",
        "  print (f'Conforme informado, seu salario era de R$ {salario:.2f}.')\n",
        "  print (f'Logo, o percentual de reajuste foi de 05%.')\n",
        "  print (f'Sendo assim, o valor do aumento salarial corresponde a R$ {cinco_porcento:.2f}.')\n",
        "  print (f'O valor do seu novo salário é de R$ {salario + cinco_porcento:.2f}.')\n"
      ],
      "metadata": {
        "colab": {
          "base_uri": "https://localhost:8080/"
        },
        "id": "k-Ey212fORBV",
        "outputId": "38070441-144a-42ea-f6cd-5068af7821a8"
      },
      "execution_count": null,
      "outputs": [
        {
          "output_type": "stream",
          "name": "stdout",
          "text": [
            "Calculadora de Aumento de Salário das Organizações Tabajara.\n",
            "Por favor, digite o valor do seu salário mensal: 584\n",
            "Conforme informado, seu salario era de R$ 584.00.\n",
            "Logo, o percentual de reajuste foi de 15%.\n",
            "Sendo assim, o valor do aumento salarial corresponde a R$ 87.60.\n",
            "O valor do seu novo salário é de R$ 671.60.\n"
          ]
        }
      ]
    },
    {
      "cell_type": "code",
      "source": [
        ""
      ],
      "metadata": {
        "id": "9yZCUGoeTXRv"
      },
      "execution_count": null,
      "outputs": []
    },
    {
      "cell_type": "markdown",
      "source": [
        "**Exercício 12.**\n",
        "* Faça um programa para o cálculo de uma folha de pagamento, sabendo que os descontos são do Imposto de Renda, que depende do salário bruto (conforme tabela abaixo) que o INSS corresponde a 10% do Salário Bruto, tal como o FGTS a 11% (obs: o FGTS não é descontado, é a empresa que deposita). \n",
        "\n",
        "O Salário Líquido corresponde ao Salário Bruto menos os descontos. O programa deverá pedir ao usuário o valor da sua hora e a quantidade de horas trabalhadas no mês.\n",
        "\n",
        "Desconto do IR:\n",
        "* Salário Bruto até 900 (inclusive) - isento\n",
        "* Salário Bruto até 1500 (inclusive) - desconto de 5%\n",
        "* Salário Bruto até 2500 (inclusive) - desconto de 10%\n",
        "* Salário Bruto acima de 2500 - desconto de 20% \n",
        "\n",
        "Imprima na tela as informações, dispostas conforme o exemplo abaixo. \n",
        "\n",
        "No exemplo o valor da hora é 5 e a quantidade de hora é 220.\n",
        "\n",
        "\n",
        "        Salário Bruto: (5 * 220)        : R$ 1100,00\n",
        "        (-) IR (5%)                     : R$   55,00  \n",
        "        (-) INSS ( 10%)                 : R$  110,00\n",
        "        FGTS (11%)                      : R$  121,00\n",
        "        Total de descontos              : R$  165,00\n",
        "        Salário Liquido                 : R$  935,00\n"
      ],
      "metadata": {
        "id": "GyRv01oGVDc_"
      }
    },
    {
      "cell_type": "code",
      "source": [
        "print ('Sistema de Folha de Pagamento - Phoenix Mercantil Ltda.')\n",
        "vhora = float(input('Por favor, informe o valor da sua hora trabalhada: '))\n",
        "htrab = int(input('Quantas hora você trabalhou neste mês? '))\n",
        "salario_bruto = (vhora * htrab)\n",
        "inss = (salario_bruto * 10/100)\n",
        "fgts = (salario_bruto * 11/100)\n",
        "ir = 0\n",
        "descontos = (inss + ir)\n",
        "salario_liquido = (salario_bruto - descontos)\n",
        "\n",
        "# Isenção até R$900\n",
        "if salario_bruto <= 900:\n",
        "  print (f'Salário Bruto: ( {vhora:.2f} * {htrab})           : R$ {salario_bruto:.2f}')\n",
        "  print (f'(-) IR   (0%)                          : Isento ')\n",
        "  print (f'(-) INSS (10%)                         : R$ {inss:.2f}')\n",
        "  print (f'FGTS     (11%)                         : R$ {fgts:.2f}')\n",
        "  print (f'Total de descontos                     : R$ {descontos:.2f}')\n",
        "  print (f'Salário Líquido                        : R$ {salario_liquido:.2f}')\n",
        "\n",
        "# IR: 5% , salário de R$901 até R$1500\n",
        "elif salario_bruto > 900 and salario_bruto <= 1500:\n",
        "  ir = (salario_bruto * 5/100)\n",
        "  descontos = (inss + ir)\n",
        "  salario_liquido = (salario_bruto - descontos)\n",
        "  print (f'Salário Bruto: ({vhora:.2f} * {htrab}) c           : R$ {salario_bruto:.2f}')\n",
        "  print (f'(-) IR   (5%)                           : R$ {ir:.2f}')\n",
        "  print (f'(-) INSS (10%)                          : R$ {inss:.2f}')\n",
        "  print (f'FGTS     (11%)                          : R$ {fgts:.2f}')\n",
        "  print (f'Total de descontos                      : R$ {descontos:.2f}')\n",
        "  print (f'Salário Líquido                         : R$ {salario_liquido:.2f}')\n",
        "\n",
        "# IR: 10% salário de R$1501 até 2500\n",
        "elif salario_bruto > 1500 and salario_bruto <= 2500:\n",
        "  ir = (salario_bruto * 10/100)\n",
        "  descontos = (inss + ir)\n",
        "  salario_liquido = (salario_bruto - descontos)\n",
        "  print (f'Salário Bruto: ({vhora:.2f} * {htrab})             : R$ {salario_bruto:.2f}')\n",
        "  print (f'(-) IR   (10%)                          : R$ {ir:.2f}')\n",
        "  print (f'(-) INSS (10%)                          : R$ {inss:.2f}')\n",
        "  print (f'FGTS     (11%)                          : R$ {fgts:.2f}')\n",
        "  print (f'Total de descontos                      : R$ {descontos:.2f}')\n",
        "  print (f'Salário Líquido                         : R$ {salario_liquido:.2f}')\n",
        "\n",
        "# IR: 20% salário acima de R$2501\n",
        "if salario_bruto > 2500:\n",
        "  ir = (salario_bruto * 20/100)\n",
        "  descontos = (inss + ir)\n",
        "  salario_liquido = (salario_bruto - descontos)\n",
        "  print (f'Salário Bruto: ({vhora:.2f} * {htrab})            : R$ {salario_bruto:.2f}')\n",
        "  print (f'(-) IR   (20%)                          : R$ {ir:.2f}')\n",
        "  print (f'(-) INSS (10%)                          : R$ {inss:.2f}')\n",
        "  print (f'FGTS     (11%)                          : R$ {fgts:.2f}')\n",
        "  print (f'Total de descontos                      : R$ {descontos:.2f}')\n",
        "  print (f'Salário Líquido                         : R$ {salario_liquido:.2f}')"
      ],
      "metadata": {
        "colab": {
          "base_uri": "https://localhost:8080/"
        },
        "id": "4Rsu4JwMVU33",
        "outputId": "dbcfe45f-b6f5-4915-8e3a-e4be6196a111"
      },
      "execution_count": null,
      "outputs": [
        {
          "output_type": "stream",
          "name": "stdout",
          "text": [
            "Sistema de Folha de Pagamento - Phoenix Mercantil Ltda.\n",
            "Por favor, informe o valor da sua hora trabalhada: 20\n",
            "Quantas hora você trabalhou neste mês? 160\n",
            "Salário Bruto: (20.00 * 160)            : R$ 3200.00\n",
            "(-) IR   (20%)                          : R$ 640.00\n",
            "(-) INSS (10%)                          : R$ 320.00\n",
            "FGTS     (11%)                          : R$ 352.00\n",
            "Total de descontos                      : R$ 960.00\n",
            "Salário Líquido                         : R$ 2240.00\n"
          ]
        }
      ]
    },
    {
      "cell_type": "code",
      "source": [
        ""
      ],
      "metadata": {
        "id": "H3a96u7xd1dv"
      },
      "execution_count": null,
      "outputs": []
    },
    {
      "cell_type": "markdown",
      "source": [
        "** Exercício 13.**\n",
        "* Faça um Programa que leia um número e exiba o dia correspondente da semana. (1-Domingo, 2- Segunda, etc.), se digitar outro valor deve aparecer valor inválido."
      ],
      "metadata": {
        "id": "oW7GACB5_YLt"
      }
    },
    {
      "cell_type": "code",
      "source": [
        "print ('Numeros de referência quanto aos dias da semana')\n",
        "numero = int( input('Digite um número de 1 a 7: '))\n",
        "if numero > 7 or numero < 0:\n",
        "  print ('Valor Inválido')\n",
        "\n",
        "if numero == 1:\n",
        "  print('O número 1 corresponde ao Domingo')\n",
        "\n",
        "elif numero == 2:\n",
        "  print('O número 2 corresponde a Segunda-Feira')\n",
        "\n",
        "elif numero == 3:\n",
        "  print('O número 3 corresponde a Terça-Feira')\n",
        "\n",
        "elif numero == 4:\n",
        "  print('O número 4 corresponde a Quarta-Feira')\n",
        "\n",
        "elif numero == 5:\n",
        "  print('O número 5 corresponde a Quinta-Feira')\n",
        "\n",
        "elif numero == 6:\n",
        "  print('O número 6 corresponde a Sexta-Feira')\n",
        "\n",
        "if numero == 7:\n",
        "  print('O número 1 corresponde ao Sabado')"
      ],
      "metadata": {
        "colab": {
          "base_uri": "https://localhost:8080/"
        },
        "id": "Kixe8fbq_rQn",
        "outputId": "1b51611d-3571-4a75-d81a-09fb6d304004"
      },
      "execution_count": null,
      "outputs": [
        {
          "output_type": "stream",
          "name": "stdout",
          "text": [
            "Numeros de referência quanto aos dias da semana\n",
            "Digite um número de 1 a 7: 3\n",
            "O número 3 corresponde a Terça-Feira\n"
          ]
        }
      ]
    },
    {
      "cell_type": "markdown",
      "source": [
        "**Exercício 14.**\n",
        "* Faça um programa que lê as duas notas parciais obtidas por um aluno numa disciplina ao longo de um semestre, e calcule a sua média. \n",
        "\n",
        "* A atribuição de conceitos obedece à tabela abaixo:\n",
        "\n",
        "Média de Aproveitamento  Conceito\n",
        "\n",
        "Entre 9.0 e 10.0        A\n",
        "\n",
        "Entre 7.5 e 9.0         B\n",
        "\n",
        "Entre 6.0 e 7.5         C\n",
        "\n",
        "Entre 4.0 e 6.0         D\n",
        "\n",
        "Entre 4.0 e zero        E\n",
        "\n",
        "O algoritmo deve mostrar na tela as notas, a média, o conceito correspondente e a mensagem “APROVADO” se o conceito for A, B ou C ou “REPROVADO” se o conceito for D ou E.\n"
      ],
      "metadata": {
        "id": "VmMGJ2QmCB2q"
      }
    },
    {
      "cell_type": "code",
      "source": [
        "print ('Verificador de Aprovação Semestral')\n",
        "aluno = input('Digite o nome do aluno: ')\n",
        "prova1 = float( input('Favor informar a nota da P1: '))\n",
        "prova2 = float( input('Favor informar a nota da P2: '))\n",
        "media = (prova1+prova2)/2\n",
        "\n",
        "if media > 6 and media < 10:\n",
        "  print (f'O aluno {aluno} obteve a média semestral de {media:.2f}.')\n",
        "  print ('APROVADO.')\n",
        "\n",
        "elif media < 6 and media >= 0:\n",
        "  print (f'O aluno {aluno} obteve a média semestral de {media:.2f}.')\n",
        "  print ('REPROVADO.')\n",
        "\n",
        "else:\n",
        "  print ('Valor Inválido. Tente novamente.')"
      ],
      "metadata": {
        "colab": {
          "base_uri": "https://localhost:8080/"
        },
        "id": "jdsrpLp0BNt7",
        "outputId": "de563183-ddd9-4db1-d959-2fe35623e0a9"
      },
      "execution_count": null,
      "outputs": [
        {
          "output_type": "stream",
          "name": "stdout",
          "text": [
            "Verificador de Aprovação Semestral\n",
            "Digite o nome do aluno: Luiz\n",
            "Favor informar a nota da P1: 10\n",
            "Favor informar a nota da P2: 7.5\n",
            "O aluno Luiz obteve a média semestral de 8.75.\n",
            "APROVADO.\n"
          ]
        }
      ]
    },
    {
      "cell_type": "markdown",
      "source": [
        "* Faça um Programa que peça os 3 lados de um triângulo. O programa deverá informar se os valores podem ser um triângulo. Indique, caso os lados formem um triângulo, se o mesmo é: equilátero, isósceles ou escaleno.\n",
        "Dicas:\n",
        "\n",
        "Três lados formam um triângulo quando a soma de quaisquer dois lados for maior que o terceiro;\n",
        "\n",
        "  * Triângulo Equilátero: três lados iguais;\n",
        "  * Triângulo Isósceles: quaisquer dois lados iguais;\n",
        "  * Triângulo Escaleno: três lados diferentes;"
      ],
      "metadata": {
        "id": "4pCkgS32GrWy"
      }
    },
    {
      "cell_type": "code",
      "source": [
        "lado_a = float( input('Insira o valor do lado A do triangulo: '))\n",
        "lado_b = float( input('Insira o valor do lado B do triangulo: '))\n",
        "lado_c = float( input('Insira o valor do lado C do triangulo: ')) \n",
        "\n",
        "# Triangulo Check Up\n",
        "if lado_a < lado_b + lado_c and lado_b < lado_a + lado_c and lado_c < lado_a + lado_b:\n",
        "  print ('Os valores informados podem formar um triangulo.')\n",
        "  if lado_a == lado_b == lado_c:\n",
        "    print ('Triangulo Equilátero.')\n",
        "  elif lado_a != lado_b != lado_c != lado_a:\n",
        "    print ('Triangulo Escaleno.')  \n",
        "  else:\n",
        "    print ('Triangulo Isóceles.')\n",
        "else:\n",
        "  print ('Os valores informados não podem formar um triangulo.')"
      ],
      "metadata": {
        "id": "swcxDhEgF9kX",
        "colab": {
          "base_uri": "https://localhost:8080/"
        },
        "outputId": "5a12342a-731c-407e-f0a4-43de17715409"
      },
      "execution_count": null,
      "outputs": [
        {
          "output_type": "stream",
          "name": "stdout",
          "text": [
            "Insira o valor do lado A do triangulo: 5\n",
            "Insira o valor do lado B do triangulo: 4\n",
            "Insira o valor do lado C do triangulo: 5\n",
            "Os valores informados podem formar um triangulo.\n",
            "Triangulo Isóceles.\n"
          ]
        }
      ]
    },
    {
      "cell_type": "markdown",
      "source": [
        "**Exercício 16.**\n",
        "\n",
        "* Faça um programa que calcule as raízes de uma equação do segundo grau, na forma ax2 + bx + c. O programa deverá pedir os valores de a, b e c e fazer as consistências, informando ao usuário nas seguintes situações:\n",
        "\n",
        "    * Se o usuário informar o valor de A igual a zero, a equação não é do segundo grau e o programa não deve fazer pedir os demais valores, sendo encerrado;\n",
        "\n",
        "    * Se o delta calculado for negativo, a equação não possui raizes reais. Informe ao usuário e encerre o programa;\n",
        "\n",
        "    * Se o delta calculado for igual a zero a equação possui apenas uma raiz real; informe-a ao usuário;\n",
        "\n",
        "    * Se o delta for positivo, a equação possui duas raiz reais; informe-as ao usuário;"
      ],
      "metadata": {
        "id": "L8TOAl3RTNuC"
      }
    },
    {
      "cell_type": "code",
      "source": [
        "import math\n",
        "\n",
        "a = int( input('Digite o valor de A: '))\n",
        "\n",
        "if a == 0:\n",
        "  quit()\n",
        "  print ('Programa Encerrado - A equação não é do segundo grau.')\n",
        "\n",
        "else:\n",
        "  b = int (input('Digite o valor de B: '))\n",
        "  c = int (input('Digite o valor de C: '))\n",
        "  delta = b*b - (4*a*c)\n",
        "  \n",
        "  if delta < 0:\n",
        "    print ('Programa Encerrado - As equação não possui raizes reais.')\n",
        "\n",
        "  elif delta == 0:\n",
        "    raiz = -b / (2*a)\n",
        "    print ('Delta=0 , raiz = ', raiz)\n",
        "\n",
        "  else:\n",
        "    raiz1 = (-b + math.sqrt(delta) ) / (2*a)\n",
        "    raiz2 = (-b  - math.sqrt(delta) ) / (2*a)\n",
        "    print (f'Raizes: {raiz1:.2f} e {raiz2:.2f} .')"
      ],
      "metadata": {
        "colab": {
          "base_uri": "https://localhost:8080/"
        },
        "id": "z-B30iHRI7Js",
        "outputId": "819b1c6a-ddb8-4f15-bbba-80b936ea8786"
      },
      "execution_count": null,
      "outputs": [
        {
          "output_type": "stream",
          "name": "stdout",
          "text": [
            "Digite o valor de A: 5\n",
            "Digite o valor de B: 10\n",
            "Digite o valor de C: 4\n",
            "Raizes: -0.55 e -1.45 .\n"
          ]
        }
      ]
    },
    {
      "cell_type": "markdown",
      "source": [
        "**Exercício 17.** \n",
        "* Faça um Programa que peça um número correspondente a um determinado ano e em seguida informe se este ano é ou não bissexto.\n"
      ],
      "metadata": {
        "id": "4orHycuXhxwd"
      }
    },
    {
      "cell_type": "code",
      "source": [
        "from calendar import isleap\n",
        "\n",
        "print ('Verificador de Ano Bissexto.')\n",
        "\n",
        "ano = int( input('Digite o ano: '))\n",
        "\n",
        "if isleap(ano):\n",
        "    print(f'O ano {ano} é bissexto.')\n",
        "else:\n",
        "    print(f'O ano {ano} não é bissexto.')"
      ],
      "metadata": {
        "colab": {
          "base_uri": "https://localhost:8080/"
        },
        "id": "cR-11EPOh_8j",
        "outputId": "ea6906b2-4c47-4396-ebb1-e68e2b0f89f3"
      },
      "execution_count": null,
      "outputs": [
        {
          "output_type": "stream",
          "name": "stdout",
          "text": [
            "Verificador de Ano Bissexto.\n",
            "Digite o ano: 2000\n",
            "O ano 2000 é bissexto.\n"
          ]
        }
      ]
    },
    {
      "cell_type": "code",
      "source": [
        ""
      ],
      "metadata": {
        "id": "Qu7pp3NiizmL"
      },
      "execution_count": null,
      "outputs": []
    },
    {
      "cell_type": "markdown",
      "source": [
        "**Exercício 18.**\n",
        "* Faça um Programa que peça uma data no formato dd/mm/aaaa e determine se a mesma é uma data válida.\n"
      ],
      "metadata": {
        "id": "WmComRU1i9oK"
      }
    },
    {
      "cell_type": "code",
      "source": [
        "print ('Olá. Digite uma data para verificar se esta é válida.')\n",
        "\n",
        "dia = int( input('Digite o dia: '))\n",
        "mes = int( input('Digite o mês: '))\n",
        "ano = int( input('Digite o ano: '))\n",
        "\n",
        "valida = False\n",
        "\n",
        "# Meses com 31 dias\n",
        "if mes==1 or mes==3 or mes==5 or mes==7 or mes==8 or mes==10 or mes==12:\n",
        "  if dia <=31:\n",
        "    valida = True\n",
        "\n",
        "# Meses com 30 dias\n",
        "elif mes==4 or mes==6 or mes==9 or mes==11:\n",
        "  if dia <= 30:\n",
        "    valida = True\n",
        "\n",
        "elif mes==2:\n",
        "# Teste se é bissexto\n",
        "  if ano%4==0 and ano%100!=0 or ano%400==0:\n",
        "    if dia <= 29:\n",
        "      valida = True\n",
        "    elif dia <= 28:\n",
        "      valida = True\n",
        "\n",
        "if(valida):\n",
        "  print('Data Válida.')\n",
        "else:\n",
        "  print('Data Inválida.')  "
      ],
      "metadata": {
        "colab": {
          "base_uri": "https://localhost:8080/"
        },
        "id": "iF3ygiRzjHD7",
        "outputId": "cfd4fe6d-4525-418e-9b30-65648fd20636"
      },
      "execution_count": null,
      "outputs": [
        {
          "output_type": "stream",
          "name": "stdout",
          "text": [
            "Olá. Digite uma data para verificar se esta é válida.\n",
            "Digite o dia: 31\n",
            "Digite o mês: 2\n",
            "Digite o ano: 2020\n",
            "Data Inválida.\n"
          ]
        }
      ]
    },
    {
      "cell_type": "code",
      "source": [
        ""
      ],
      "metadata": {
        "id": "xJFLfMDWmY8H"
      },
      "execution_count": null,
      "outputs": []
    },
    {
      "cell_type": "markdown",
      "source": [
        "**Exercicio 19.**\n",
        "* Faça um Programa que leia um número inteiro menor que 1000 e imprima a quantidade de centenas, dezenas e unidades do mesmo.\n",
        "\n",
        "\n",
        "Observando os termos no plural a colocação do \"e\", da vírgula entre outros. Exemplo:\n",
        "\n",
        "* 326 = 3 centenas, 2 dezenas e 6 unidades\n",
        "* 12 = 1 dezena e 2 unidades Testar com: 326, 300, 100, 320, 310,305, 301, 101, 311, 111, 25, 20, 10, 21, 11, 1, 7 e 16"
      ],
      "metadata": {
        "id": "lkqGZah3AF0r"
      }
    },
    {
      "cell_type": "code",
      "source": [
        "import math\n",
        "\n",
        "print ('Identificador de Centena, Dezena e Unidade')\n",
        "print (' '*43)\n",
        "\n",
        "numero = int( input('Digite um número inteiro menor que 1000: '))\n",
        "if numero < 1000:\n",
        "# Identificando a Unidade\n",
        "  unidade = numero % 10\n",
        "# Eliminando a Unidade \n",
        "  numero = (numero - unidade)/10\n",
        "\n",
        "# Identificando a Dezena\n",
        "  dezena = numero % 10\n",
        "\n",
        "# Eliminando a Dezena e Identificando a Centena\n",
        "  numero = (numero - dezena)/10\n",
        "  centena = numero\n",
        "\n",
        "# Transformando os números em Inteiros\n",
        "  dezena = int(dezena)\n",
        "  centena = int(centena)\n",
        "  print(centena,'centena(s),',dezena,'dezena(s) e',unidade,'unidade(s).')\n",
        "\n",
        "else:\n",
        "  print ('Número Inválido.')"
      ],
      "metadata": {
        "colab": {
          "base_uri": "https://localhost:8080/"
        },
        "id": "ks5U7njmAWK3",
        "outputId": "23e207cd-47b0-4636-900e-1ddc6dcfcfab"
      },
      "execution_count": null,
      "outputs": [
        {
          "output_type": "stream",
          "name": "stdout",
          "text": [
            "Identificador de Centena, Dezena e Unidade\n",
            "                                           \n",
            "Digite um número inteiro menor que 1000: 324\n",
            "3 centena(s), 2 dezena(s) e 4 unidade(s)\n"
          ]
        }
      ]
    },
    {
      "cell_type": "markdown",
      "source": [
        "**Exercício 20.**\n",
        "\n",
        "* Faça um Programa para leitura de três notas parciais de um aluno. O programa deve calcular a média alcançada por aluno e presentar:\n",
        "\n",
        "* A mensagem \"Aprovado\", se a média for maior ou igual a 7, com a respectiva média alcançada;\n",
        "* A mensagem \"Reprovado\", se a média for menor do que 7, com a respectiva média alcançada;\n",
        "* A mensagem \"Aprovado com Distinção\", se a média for igual a 10."
      ],
      "metadata": {
        "id": "zWiawAmqNOVp"
      }
    },
    {
      "cell_type": "code",
      "source": [
        "print ('Checagem de Aprovação Trimestral.')\n",
        "print (' '*43)\n",
        "aluno = input('Por favor, insira o nome do aluno: ')\n",
        "print (' '*43)\n",
        "nota1 = float( input('Informe a 1ª nota: '))\n",
        "nota2 = float( input('Informe a 2ª nota: '))\n",
        "nota3 = float( input('Informe a 3ª nota: '))\n",
        "\n",
        "if nota1 < 0 and nota2 < 0 and nota3 > 0 or nota1 <= 10 and nota2 <=10 and nota3 <= 10:\n",
        "  media = (nota1+nota2+nota3)/3\n",
        "  if media >= 7 and media < 9.75:\n",
        "    print (' '*43)\n",
        "    print (f'O aluno {aluno} foi Aprovado. Sua média trimestral foi {media:.2f}.')\n",
        "  if media == 10:\n",
        "    print (' '*43)\n",
        "    print (f'O aluno {aluno} foi Aprovado com Distinção. Sua média trimestral foi {media:.2f}.')\n",
        "  if media < 6.75:\n",
        "    print (' '*43)\n",
        "    print (f'O aluno {aluno} infelizmente foi Reprovado. Sua média trimestral foi {media:.2f}.')\n",
        "\n",
        "else:\n",
        "  print (' '*43)\n",
        "  print ('Valor de nota invalido.')\n"
      ],
      "metadata": {
        "colab": {
          "base_uri": "https://localhost:8080/"
        },
        "id": "oRF36pjsNYE4",
        "outputId": "4caf12e5-9a45-4406-da55-a5efd4cc69fb"
      },
      "execution_count": null,
      "outputs": [
        {
          "output_type": "stream",
          "name": "stdout",
          "text": [
            "Checagem de Aprovação Trimestral.\n",
            "                                           \n",
            "Por favor, insira o nome do aluno: Luiz\n",
            "                                           \n",
            "Informe a 1ª nota: 6.5\n",
            "Informe a 2ª nota: 6.5\n",
            "Informe a 3ª nota: 10\n",
            "                                           \n",
            "O aluno Luiz foi Aprovado. Sua média trimestral foi 7.67.\n"
          ]
        }
      ]
    },
    {
      "cell_type": "markdown",
      "source": [
        "**Exercício 21.**\n",
        "\n",
        "* Faça um Programa para um caixa eletrônico. O programa deverá perguntar ao usuário a valor do saque e depois informar quantas notas de cada valor serão fornecidas. \n",
        "\n",
        "  As notas disponíveis serão as de 1, 5, 10, 50 e 100 reais. O valor mínimo é de 10 reais e o máximo de 600 reais. O programa não deve se preocupar com a quantidade de notas existentes na máquina.\n",
        "\n",
        "  a) Exemplo 1: Para sacar a quantia de 256 reais, o programa fornece duas notas de 100, uma nota de 50, uma nota de 5 e uma nota de 1;\n",
        "\n",
        "  b) Exemplo 2: Para sacar a quantia de 399 reais, o programa fornece três notas de 100, uma nota de 50, quatro notas de 10, uma nota de 5 e quatro notas de 1."
      ],
      "metadata": {
        "id": "2TkoAReO2spI"
      }
    },
    {
      "cell_type": "code",
      "source": [
        "print ('Bem-vindo ao Caixa Eletrônico do Banco LGO.')\n",
        "print (' '*45)\n",
        "saque = float(input('Favor informar o valor do saque desejado: '))\n",
        "if saque >=10 and saque <= 600:  \n",
        "  notas_de_100 = notas_de_50 = notas_de_10 = notas_de_5 = notas_de_1 = 0\n",
        "# Notas de 100\n",
        "  notas_de_100 , saque = divmod(saque,100)\n",
        "# Notas de 50\n",
        "  notas_de_50, saque = divmod(saque,50)\n",
        "# Notas de 10\n",
        "  notas_de_10, saque = divmod(saque,10)\n",
        "# Notas de 5\n",
        "  notas_de_5, saque = divmod(saque,5)\n",
        "# Notas de 1\n",
        "  notas_de_1, saque = divmod(saque,1)\n",
        "# Impressao\n",
        "  print (' '*45)\n",
        "  print (f'{int(notas_de_100)} nota(s) de R$100') \n",
        "  print (f'{int(notas_de_50) } nota(s) de R$50') \n",
        "  print (f'{int(notas_de_10) } nota(s) de R$10') \n",
        "  print (f'{int(notas_de_5)  } nota(s) de R$5')\n",
        "  print (f'{int(notas_de_1)  } nota(s) de R$1')\n",
        "\n",
        "else:\n",
        "  print ('Valor Indisponível.')"
      ],
      "metadata": {
        "id": "W4hIiaSvOVSU",
        "colab": {
          "base_uri": "https://localhost:8080/"
        },
        "outputId": "8ed97a31-2feb-42a8-900a-e27e66c4d33e"
      },
      "execution_count": null,
      "outputs": [
        {
          "output_type": "stream",
          "name": "stdout",
          "text": [
            "Bem-vindo ao Caixa Eletrônico do Banco LGO.\n",
            "                                             \n",
            "Favor informar o valor do saque desejado: 548\n",
            "                                             \n",
            "5 nota(s) de R$100\n",
            "0 nota(s) de R$50\n",
            "4 nota(s) de R$10\n",
            "1 nota(s) de R$5\n",
            "3 nota(s) de R$1\n"
          ]
        }
      ]
    },
    {
      "cell_type": "markdown",
      "source": [
        "**Exercício 22.**\n",
        "\n",
        "* Faça um Programa que peça um número inteiro e determine se ele é par ou impar. Dica: utilize o operador módulo (resto da divisão)."
      ],
      "metadata": {
        "id": "lBqYIb2XYUi5"
      }
    },
    {
      "cell_type": "code",
      "source": [
        "numero = int( input('Digite um número inteiro: '))\n",
        "if (numero%2) == 0:\n",
        "  print(\"Par.\")\n",
        "else:\n",
        "  print(\"Ímpar.\")"
      ],
      "metadata": {
        "colab": {
          "base_uri": "https://localhost:8080/"
        },
        "id": "sTJPMcKo2EKH",
        "outputId": "91d977a2-49ad-478a-c8ed-268c4cb96c2f"
      },
      "execution_count": null,
      "outputs": [
        {
          "output_type": "stream",
          "name": "stdout",
          "text": [
            "Digite um número inteiro: 5487\n",
            "Ímpar.\n"
          ]
        }
      ]
    },
    {
      "cell_type": "markdown",
      "source": [
        "**Exercício 23.**\n",
        "* Faça um Programa que peça um número e informe se o número é inteiro ou decimal. Dica: utilize uma função de arredondamento."
      ],
      "metadata": {
        "id": "DkWjs9coefLw"
      }
    },
    {
      "cell_type": "code",
      "source": [
        "numero = input('Digite um número: ')\n",
        "try:\n",
        "    int(numero)\n",
        "    inteiro = True\n",
        "    print ('Número Inteiro.')\n",
        "except ValueError:\n",
        "    inteiro = False\n",
        "    print('Número Decimal.')"
      ],
      "metadata": {
        "colab": {
          "base_uri": "https://localhost:8080/"
        },
        "id": "kxrfRC3BefoL",
        "outputId": "24947dea-812a-4191-f7b7-0c98ec2dc445"
      },
      "execution_count": null,
      "outputs": [
        {
          "output_type": "stream",
          "name": "stdout",
          "text": [
            "Digite um número: 1.1254\n",
            "Número Decimal.\n"
          ]
        }
      ]
    },
    {
      "cell_type": "markdown",
      "source": [
        "**Exercício 24.**\n",
        "* Faça um Programa que leia 2 números e em seguida pergunte ao usuário qual operação ele deseja realizar. \n",
        "\n",
        "  O resultado da operação deve ser acompanhado de uma frase que diga se o número é:\n",
        "  * par ou ímpar;\n",
        "  * positivo ou negativo;\n",
        "  * inteiro ou decimal."
      ],
      "metadata": {
        "id": "RTrStqlCfzMO"
      }
    },
    {
      "cell_type": "code",
      "source": [
        "numero1 = eval( input('Digite um número: '))\n",
        "numero2 = eval( input('Digite outro número: '))\n",
        "\n",
        "operacao = input('Qual operação você deseja realizar? (+ , - , / , * , **) ')\n",
        "while operacao != '+' and operacao != '-' and operacao != '/' and operacao != '*' and operacao != '**':\n",
        "  print ('Operador Inválido. Tente novamente.')\n",
        "  operacao = input('Qual operação você deseja realizar? (+ , - , / , * , **) ')\n",
        "\n",
        "#Operador +\n",
        "if operacao == '+':\n",
        "  calculo = numero1 + numero2\n",
        "  if (calculo%2) == 0:\n",
        "    print(f'O resultado {calculo} é Par.')\n",
        "  else:\n",
        "    print(f'O resultado {calculo} é Ímpar.')\n",
        "  if calculo > 0:\n",
        "    print('Positivo.')\n",
        "  else:\n",
        "    print('Negativo.')\n",
        "  if calculo == int(calculo):\n",
        "    print('Número Inteiro.')\n",
        "  else:\n",
        "    print('Número Decimal.')  \n",
        "\n",
        "#Operador -\n",
        "elif operacao == '-':\n",
        "  calculo = numero1 - numero2\n",
        "  print (calculo)\n",
        "  if (calculo%2) == 0:\n",
        "    print(f'O resultado {calculo} é Par.')\n",
        "  else:\n",
        "    print(f'O resultado {calculo} é Ímpar.')\n",
        "  if calculo > 0:\n",
        "    print('Positivo.')\n",
        "  else:\n",
        "    print('Negativo.')\n",
        "  if calculo == int(calculo):\n",
        "    print('Número Inteiro.')\n",
        "  else:\n",
        "    print('Número Decimal.') \n",
        "\n",
        "#Operador /\n",
        "elif operacao == '/':\n",
        "  calculo = numero1 / numero2\n",
        "  print (calculo)\n",
        "  if (calculo%2) == 0:\n",
        "    print(f'O resultado {calculo} é Par.')\n",
        "  else:\n",
        "    print(f'O resultado {calculo} é Ímpar.')\n",
        "  if calculo > 0:\n",
        "    print('Positivo.')\n",
        "  else:\n",
        "    print('Negativo.')\n",
        "  if calculo == int(calculo):\n",
        "    print('Número Inteiro.')\n",
        "  else:\n",
        "    print('Número Decimal.') \n",
        "\n",
        "#Operador *\n",
        "elif operacao == '*':\n",
        "  calculo = numero1 * numero2\n",
        "  print (calculo)\n",
        "  if (calculo%2) == 0:\n",
        "    print(f'O resultado {calculo} é Par.')\n",
        "  else:\n",
        "    print(f'O resultado {calculo} é Ímpar.')\n",
        "  if calculo > 0:\n",
        "    print('Positivo.')\n",
        "  else:\n",
        "    print('Negativo.')\n",
        "  if calculo == int(calculo):\n",
        "    print('Número Inteiro.')\n",
        "  else:\n",
        "    print('Número Decimal.') \n",
        "\n",
        "#Operador **\n",
        "else: \n",
        "  if operacao == '**':\n",
        "    calculo = numero1 ** numero2\n",
        "    print (calculo)\n",
        "  if (calculo%2) == 0:\n",
        "    print(f'O resultado {calculo} é Par.')\n",
        "  else:\n",
        "    print(f'O resultado {calculo} é Ímpar.')\n",
        "  if calculo > 0:\n",
        "    print('Positivo.')\n",
        "  else:\n",
        "    print('Negativo.')\n",
        "  if calculo == int(calculo):\n",
        "    print('Número Inteiro.')\n",
        "  else:\n",
        "    print('Número Decimal.') "
      ],
      "metadata": {
        "colab": {
          "base_uri": "https://localhost:8080/"
        },
        "id": "0nRtIkp3gADS",
        "outputId": "f96fbc90-007f-40f7-c849-7bd5862c0f70"
      },
      "execution_count": null,
      "outputs": [
        {
          "output_type": "stream",
          "name": "stdout",
          "text": [
            "Digite um número: 14\n",
            "Digite outro número: 2\n",
            "Qual operação você deseja realizar? (+ , - , / , * , **) **\n",
            "196\n",
            "O resultado 196 é Par.\n",
            "Positivo.\n",
            "Número Inteiro.\n"
          ]
        }
      ]
    },
    {
      "cell_type": "markdown",
      "source": [
        "**Exercício 25.**\n",
        "\n",
        "* Faça um programa que faça 5 perguntas para uma pessoa sobre um crime. As perguntas são:\n",
        "\n",
        "  \"Telefonou para a vítima?\"\n",
        "\n",
        "  \"Esteve no local do crime?\"\n",
        "  \n",
        "  \"Mora perto da vítima?\"\n",
        "\n",
        "  \"Devia para a vítima?\"\n",
        "\n",
        "  \"Já trabalhou com a vítima?\" \n",
        "  \n",
        "  O programa deve no final emitir uma classificação sobre a participação da pessoa no crime. \n",
        "  \n",
        "    * Se a pessoa responder positivamente a 2 questões ela deve ser classificada como \"Suspeita\", entre 3 e 4 como \"Cúmplice\" e 5 como \"Assassino\". Caso contrário, ele será classificado como \"Inocente\"."
      ],
      "metadata": {
        "id": "nZEy5yHK1u4w"
      }
    },
    {
      "cell_type": "code",
      "source": [
        "print ('Delegacia de Policia do Estado de SP.')\n",
        "print (' ')\n",
        "print ('Para melhor esclarecimento das investigações responda \"SIM\" ou \"NÃO\" para as seguintes pergutnas:')\n",
        "print (' ')\n",
        "resposta = 0\n",
        "\n",
        "resposta1 = str(input('Telefonou para a vítima? '))\n",
        "resposta1 = resposta1.lower()\n",
        "while resposta1 != 'sim' and resposta1 != 'não':\n",
        "  print ('Resposta incorreta. Por favor, responda SIM ou NÃO.')\n",
        "  resposta1 = str(input('Telefonou para a vítima? '))\n",
        "  resposta1 = resposta1.lower()\n",
        "else:\n",
        "  if resposta1 == 'sim':  \n",
        "    resposta+= 1\n",
        "  else:\n",
        "    resposta+= 0\n",
        "\n",
        "resposta2 = str(input('Esteve no local do crime? '))\n",
        "resposta2 = resposta2.lower()\n",
        "while resposta2 != 'sim' and resposta2 != 'não':\n",
        "  print ('Resposta incorreta. Por favor, responda SIM ou NÃO.')\n",
        "  resposta2 = str(input('Esteve no local do crime? '))\n",
        "  resposta2 = resposta2.lower()\n",
        "else:\n",
        "  if resposta2 == 'sim':  \n",
        "    resposta+= 1\n",
        "  else:\n",
        "    resposta+= 0\n",
        "\n",
        "resposta3 = str(input('Mora perto da vítima? '))\n",
        "resposta3 = resposta3.lower()\n",
        "while resposta3 != 'sim' and resposta3 != 'não':\n",
        "  print ('Resposta incorreta. Por favor, responda SIM ou NÃO.')\n",
        "  resposta3 = str(input('Mora perto da vítima? '))\n",
        "  resposta3 = resposta3.lower()\n",
        "else:\n",
        "  if resposta3 == 'sim':  \n",
        "    resposta+= 1\n",
        "  else:\n",
        "    resposta+= 0\n",
        "\n",
        "resposta4 = str(input('Devia para a vítima? '))\n",
        "resposta4 = resposta4.lower()\n",
        "while resposta4 != 'sim' and resposta4 != 'não':\n",
        "  print ('Resposta incorreta. Por favor, responda SIM ou NÃO.')\n",
        "  resposta4 = str(input('Devia para a vítima? '))\n",
        "  resposta4 = resposta4.lower()\n",
        "else:\n",
        "  if resposta4 == 'sim':  \n",
        "    resposta+= 1\n",
        "  else:\n",
        "    resposta+= 0\n",
        "\n",
        "resposta5 = str(input('Já trabalhou com a vítima? '))\n",
        "resposta5 = resposta5.lower()\n",
        "while resposta5 != 'sim' and resposta5 != 'não':\n",
        "  print ('Resposta incorreta. Por favor, responda SIM ou NÃO.')\n",
        "  resposta5 = str(input('Já trabalhou com a vítima? '))\n",
        "  resposta5 = resposta5.lower()\n",
        "else:\n",
        "  if resposta5 == 'sim':  \n",
        "    resposta+= 1\n",
        "  else:\n",
        "    resposta+= 0\n",
        "\n",
        "\n",
        "#Conclusão\n",
        "if resposta == 2:\n",
        "  print ('Suspeito.')\n",
        "elif resposta >= 3 and resposta <= 4:\n",
        "  print ('Cúmplice.')\n",
        "elif resposta == 5:\n",
        "  print ('Assassino.')\n",
        "else:\n",
        "  print (' ')\n",
        "  print ('Inocente.')"
      ],
      "metadata": {
        "colab": {
          "base_uri": "https://localhost:8080/"
        },
        "id": "NbmKuW5KYv75",
        "outputId": "43db2461-5376-4673-f060-58c3e3859032"
      },
      "execution_count": null,
      "outputs": [
        {
          "output_type": "stream",
          "name": "stdout",
          "text": [
            "Delegacia de Policia do Estado de SP.\n",
            " \n",
            "Para o esclarecimento das investigações responda \"SIM\" ou \"NÃO\" as seguintes pergutnas:\n",
            " \n",
            "Telefonou para a vítima? Sim\n",
            "Esteve no local do crime? Sim\n",
            "Mora perto da vítima? Sim\n",
            "Devia para a vítima? Sim\n",
            "Já trabalhou com a vítima? Sim\n",
            "Assassino.\n"
          ]
        }
      ]
    },
    {
      "cell_type": "markdown",
      "source": [
        "**Exercício 26.**\n",
        "\n",
        "Um posto está vendendo combustíveis com a seguinte tabela de descontos:\n",
        "\n",
        "Álcool:\n",
        "* até 20 litros, desconto de 3% por litro\n",
        "* acima de 20 litros, desconto de 5% por litro\n",
        "\n",
        "Gasolina:\n",
        "* até 20 litros, desconto de 4% por litro\n",
        "* acima de 20 litros, desconto de 6% por litro \n",
        "\n",
        "Escreva um algoritmo que leia: \n",
        "\n",
        "  * o número de litros vendidos,\n",
        "  * o tipo de combustível (codificado da seguinte forma: A-álcool, G-gasolina)\n",
        "  * calcule e imprima o valor a ser pago pelo cliente\n",
        "    obs: sabendo-se que o preço do litro da gasolina é R$ 2,50 o preço do litro do álcool é R$ 1,90."
      ],
      "metadata": {
        "id": "KghIwXjL26Sj"
      }
    },
    {
      "cell_type": "code",
      "source": [
        "print ('Bem vindo ao Posto de Gasolina LGO.')\n",
        "print (''*4)\n",
        "\n",
        "a_ou_g = input('Álcool ou Gasolina? (Digite a inicial da opção desejada): ')\n",
        "a_ou_g = a_ou_g.lower()\n",
        "litros = float( input('Quantos litros você deseja abastescer? '))\n",
        "\n",
        "#Álcool\n",
        "if a_ou_g == 'a' and litros <= 20:\n",
        "  desconto = litros * 3/100\n",
        "  preco_alcool = 1.9\n",
        "  print (f'O total ficou R$ {(preco_alcool * litros) - desconto:.2f} por {litros} litros de álcool.')\n",
        "  print (f'Desconto de: R${desconto:.2f} .')\n",
        "else:\n",
        "  if a_ou_g == 'a':\n",
        "    desconto = litros * 5/100\n",
        "    preco_alcool = 1.9\n",
        "    print (f'O total ficou R$ {(preco_alcool * litros) - desconto:.2f} por {litros} litros de álcool.')\n",
        "    print (f'Desconto de: R${desconto:.2f} .')\n",
        "\n",
        "#Gasolina\n",
        "if a_ou_g == 'g' and litros <= 20:\n",
        "  desconto = litros * 4/100\n",
        "  preco_gasolina = 2.5\n",
        "  print (f'O total ficou R$ {(preco_gasolina * litros) - desconto:.2f} por {litros} litros de gasolina.')\n",
        "  print (f'Desconto de: R${desconto:.2f} .')\n",
        "else:\n",
        "  if a_ou_g == 'g':\n",
        "    desconto = litros * 6/100\n",
        "    preco_gasolina = 2.5\n",
        "    print (f'O total ficou R$ {(preco_gasolina * litros) - desconto:.2f} por {litros} litros de gasolina.')\n",
        "    print (f'Desconto de: R${desconto:.2f} .')\n"
      ],
      "metadata": {
        "colab": {
          "base_uri": "https://localhost:8080/"
        },
        "id": "4KfiLSxX26o9",
        "outputId": "0241ea6d-52be-4771-8f9a-0a60962a8f28"
      },
      "execution_count": null,
      "outputs": [
        {
          "output_type": "stream",
          "name": "stdout",
          "text": [
            "Bem vindo ao Posto de Gasolina LGO.\n",
            "\n",
            "Álcool ou Gasolina? (Digite a inicial da opção desejada): A\n",
            "Quantos litros você deseja abastescer? 20\n",
            "O total ficou R$ 37.40 por 20.0 litros de álcool.\n",
            "Desconto de: R$0.60 .\n"
          ]
        }
      ]
    },
    {
      "cell_type": "markdown",
      "source": [
        "**Exercício 27.**\n",
        "\n",
        "Uma fruteira está vendendo frutas com a seguinte tabela de preços:\n",
        "\n",
        "                       Até 5 Kg              Acima de 5 Kg\n",
        "    Morango         R$ 2,50 por Kg          R$ 2,20 por Kg\n",
        "    Maçã            R$ 1,80 por Kg          R$ 1,50 por Kg\n",
        "\n",
        "Se o cliente comprar mais de 8 Kg em frutas ou o valor total da compra ultrapassar R$ 25,00, receberá ainda um desconto de 10% sobre este total.\n",
        "\n",
        "Escreva um algoritmo para ler a quantidade (em Kg) de morangos e a quantidade (em Kg) de maças adquiridas e escreva o valor a ser pago pelo cliente."
      ],
      "metadata": {
        "id": "QKrxQ0al_SUB"
      }
    },
    {
      "cell_type": "code",
      "source": [
        "print ('Bem-vindo ao Super Mercado LGO!')\n",
        "print (' '*20)\n",
        "\n",
        "morango_kg = float( input('Quantos kilos de morango você deseja comprar? '))\n",
        "maca_kg = float( input('Quantos kilos de maça você deseja comprar? '))\n",
        "\n",
        "#Morango\n",
        "if morango_kg <= 5:\n",
        "  preco_morango = 2.5\n",
        "  total_morango = morango_kg * preco_morango\n",
        "  print (' '*10)\n",
        "  print (f'R$ {total_morango:.2f} para {morango_kg:.2f} kg(s) de morango.')\n",
        "\n",
        "else:\n",
        "  preco_morango = 2.2\n",
        "  total_morango = morango_kg * preco_morango\n",
        "  print (' '*10)\n",
        "  print (f'R$ {total_morango:.2f} para {morango_kg:.2f} kg(s) de morango.')\n",
        "\n",
        "#Maçã\n",
        "if maca_kg <= 5:\n",
        "  preco_maca = 1.8\n",
        "  total_maca = maca_kg * preco_maca\n",
        "  print (' '*10)\n",
        "  print (f'R$ {total_maca:.2f} para {maca_kg:.2f} kg(s) de maçã.')\n",
        "\n",
        "else:\n",
        "  preco_maca = 1.5\n",
        "  total_maca = maca_kg * preco_maca\n",
        "  print (' '*10)\n",
        "  print (f'R$ {total_maca:.2f} para {maca_kg:.2f} kg(s) de maçã.')\n",
        "\n",
        "\n",
        "#Total:\n",
        "frutas_kg = morango_kg + maca_kg\n",
        "total_frutas = total_morango + total_maca\n",
        "\n",
        "if frutas_kg > 8 or total_frutas > 25:\n",
        "  desconto = total_frutas * 10/100\n",
        "  print (' '*10)\n",
        "  print (f'Valor da compra: R$ {total_morango + total_maca:.2f}.')\n",
        "  print (f'Você ganhou um desconto de R${desconto:.2f}. Valor da compra R${total_frutas - desconto:.2f} .')\n",
        "\n",
        "else:\n",
        "  print (' '*10)\n",
        "  print (f'Valor da compra: R$ {total_morango + total_maca:.2f} .')"
      ],
      "metadata": {
        "colab": {
          "base_uri": "https://localhost:8080/"
        },
        "id": "uLV-DmtQ_S8p",
        "outputId": "68eea0c5-8f33-4dab-9300-9cd2bec2d6b6"
      },
      "execution_count": null,
      "outputs": [
        {
          "output_type": "stream",
          "name": "stdout",
          "text": [
            "Bem-vindo ao Super Mercado LGO!\n",
            "                    \n",
            "Quantos kilos de morango você deseja comprar? 6\n",
            "Quantos kilos de maça você deseja comprar? 8\n",
            "          \n",
            "R$ 13.20 para 6.00 kg(s) de morango.\n",
            "          \n",
            "R$ 12.00 para 8.00 kg(s) de maçã.\n",
            "          \n",
            "Valor da compra: R$ 25.20.\n",
            "Você ganhou um desconto de R$2.52. Valor da compra R$22.68 para 14.0 kgs de frutas.\n"
          ]
        }
      ]
    },
    {
      "cell_type": "markdown",
      "source": [
        "**Exercício 28.**\n",
        "\n",
        "O Hipermercado Tabajara está com uma promoção de carnes que é imperdível. Confira:\n",
        "\n",
        "                       Até 5 Kg              Acima de 5 Kg\n",
        "    File Duplo      R$ 4,90 por Kg          R$ 5,80 por Kg\n",
        "    Alcatra         R$ 5,90 por Kg          R$ 6,80 por Kg\n",
        "    Picanha         R$ 6,90 por Kg          R$ 7,80 por Kg\n",
        "\n",
        "\n",
        "Para atender a todos os clientes, cada cliente poderá levar apenas um dos tipos de carne da promoção, porém não há limites para a quantidade de carne por cliente. \n",
        "\n",
        "Se compra for feita no cartão Tabajara o cliente receberá ainda um desconto de 5% sobre o total da compra. \n",
        "\n",
        "* Escreva um programa que peça o tipo e a quantidade de carne comprada pelo usuário e gere um cupom fiscal, contendo as informações da compra: \n",
        "  * Tipo e quantidade de carne, \n",
        "  * Preço total, \n",
        "  * Tipo de pagamento, \n",
        "  * Valor do desconto e valor a pagar."
      ],
      "metadata": {
        "id": "maVYs4UCMzpi"
      }
    },
    {
      "cell_type": "code",
      "source": [
        "print ('Bem-vindo ao Super Mercado Tabajara!')\n",
        "print ('Estamos com uma promoção de carnes imperdível.')\n",
        "print (' '*10)\n",
        "print ('Opções: File Duplo / Alcatra / Picanha.')\n",
        "print (' '*10)\n",
        "carne_escolhida = input ('Digite a carne que você deseja comprar: ')\n",
        "carne_escolhida = carne_escolhida.lower()\n",
        "while carne_escolhida != 'file duplo' and carne_escolhida != 'alcatra' and carne_escolhida != 'picanha':\n",
        "  print ('Valor Inválido. Tente novamente')\n",
        "  carne_escolhida = input ('Digite a carne que você deseja comprar: ')\n",
        "  carne_escolhida = carne_escolhida.lower()\n",
        "\n",
        "### File Duplo ###\n",
        "if carne_escolhida == 'file duplo':\n",
        "  print (''*10)\n",
        "  kg_fileduplo = float( input('Quantos kilos de File Duplo você gostaria de comprar? '))\n",
        "  if kg_fileduplo <= 5:\n",
        "    preco_fileduplo = 4.9\n",
        "    total_fileduplo = kg_fileduplo * preco_fileduplo\n",
        "\n",
        "#Cartao Tabajara kg por R$ 4.90\n",
        "    client_confirm = input ('Pagamento com Cartão Tabajara? (S para SIM / N para NÂO): ')\n",
        "    client_confirm = client_confirm.lower()\n",
        "    while client_confirm != 's' and client_confirm != 'n':\n",
        "      print ('Valor Inválido. Tente novamente')\n",
        "      client_confirm = input ('Pagamento com Cartão Tabajara? (S para SIM / N para NÂO): ')\n",
        "      client_confirm = client_confirm.lower()\n",
        "    else:\n",
        "      if client_confirm == 's':\n",
        "        desconto = total_fileduplo * 5/100\n",
        "        print (''*10)\n",
        "        print (f'Valor da compra R$ {total_fileduplo - desconto:.2f} para {kg_fileduplo:.2f} kg(s) de File Duplo.')\n",
        "        print (f'Desconto Cliente Tabajara: (-) R$ {desconto:.2f} .')\n",
        "      else:\n",
        "        print (''*10)\n",
        "        print (f'Valor da compra R$ {total_fileduplo:.2f} para {kg_fileduplo:.2f} kg(s) de File Duplo.')\n",
        "  else:\n",
        "    preco_fileduplo = 5.8\n",
        "    total_fileduplo = kg_fileduplo * preco_fileduplo\n",
        "\n",
        "#Cartao Tabajara kg por R$ 5.80\n",
        "    client_confirm = input ('Pagamento com Cartão Tabajara? (S para SIM / N para NÂO): ')\n",
        "    client_confirm = client_confirm.lower()\n",
        "    while client_confirm != 's' and client_confirm != 'n':\n",
        "      print ('Valor Inválido. Tente novamente')\n",
        "      client_confirm = input ('Pagamento com Cartão Tabajara? (S para SIM / N para NÂO): ')\n",
        "      client_confirm = client_confirm.lower()\n",
        "    else:\n",
        "      if client_confirm == 's':\n",
        "        desconto = total_fileduplo * 5/100\n",
        "        print (''*10)\n",
        "        print (f'Valor da compra R$ {total_fileduplo - desconto:.2f} para {kg_fileduplo:.2f} kg(s) de File Duplo.')\n",
        "        print (f'Desconto Cliente Tabajara: (-) R$ {desconto:.2f} .')\n",
        "      else:\n",
        "        print (''*10)\n",
        "        print (f'Valor da compra R$ {total_fileduplo:.2f} para {kg_fileduplo:.2f} kg(s) de File Duplo.')\n",
        "\n",
        "\n",
        "### Alcatra ###\n",
        "elif carne_escolhida == 'alcatra':\n",
        "  print (''*10)\n",
        "  kg_alcatra = float( input('Quantos kilos de Alcatra você gostaria de comprar? '))\n",
        "  if kg_alcatra <= 5:\n",
        "    preco_alcatra = 5.9\n",
        "    total_alcatra = kg_alcatra * preco_alcatra\n",
        "\n",
        "#Cartao Tabajara kg por R$ 5.90\n",
        "    client_confirm = input ('Pagamento com Cartão Tabajara? (S para SIM / N para NÂO): ')\n",
        "    client_confirm = client_confirm.lower()\n",
        "    while client_confirm != 's' and client_confirm != 'n':\n",
        "      print ('Valor Inválido. Tente novamente')\n",
        "      client_confirm = input ('Pagamento com Cartão Tabajara? (S para SIM / N para NÂO): ')\n",
        "      client_confirm = client_confirm.lower()\n",
        "    else:\n",
        "      if client_confirm == 's':\n",
        "        desconto = total_alcatra * 5/100\n",
        "        print (''*10)\n",
        "        print (f'Valor da compra R$ {total_alcatra - desconto:.2f} para {kg_alcatra:.2f} kg(s) de Alcatra.')\n",
        "        print (f'Desconto Cliente Tabajara: (-) R$ {desconto:.2f} .')\n",
        "      else:\n",
        "        print (''*10)\n",
        "        print (f'Valor da compra R$ {total_alcatra:.2f} para {kg_alcatra:.2f} kg(s) de Alcatra.')\n",
        "  else:\n",
        "    preco_alcatra = 6.8\n",
        "    total_alcatra = kg_alcatra * preco_alcatra\n",
        "\n",
        "#Cartao Tabajara kg por R$ 6.80\n",
        "    client_confirm = input ('Pagamento com Cartão Tabajara? (S para SIM / N para NÂO): ')\n",
        "    client_confirm = client_confirm.lower()\n",
        "    while client_confirm != 's' and client_confirm != 'n':\n",
        "      print ('Valor Inválido. Tente novamente')\n",
        "      client_confirm = input ('Pagamento com Cartão Tabajara? (S para SIM / N para NÂO): ')\n",
        "      client_confirm = client_confirm.lower()\n",
        "    else:\n",
        "      if client_confirm == 's':\n",
        "        desconto = total_alcatra * 5/100\n",
        "        print (''*10)\n",
        "        print (f'Valor da compra R$ {total_alcatra - desconto:.2f} para {kg_alcatra:.2f} kg(s) de Alcatra.')\n",
        "        print (f'Desconto Cliente Tabajara: (-) R$ {desconto:.2f} .')\n",
        "      else:\n",
        "        print (''*10)\n",
        "        print (f'Valor da compra R$ {total_alcatra:.2f} para {kg_alcatra:.2f} kg(s) de Alcatra.')\n",
        "\n",
        "\n",
        "### Picanha ###\n",
        "if carne_escolhida == 'picanha':\n",
        "  print (''*10)\n",
        "  kg_picanha = float( input('Quantos kilos de Picanha você gostaria de comprar? '))\n",
        "  if kg_picanha <= 5:\n",
        "    preco_picanha = 6.9\n",
        "    total_picanha = kg_picanha * preco_picanha\n",
        "\n",
        "#Cartao Tabajara kg por R$ 6.90\n",
        "    client_confirm = input ('Pagamento com Cartão Tabajara? (S para SIM / N para NÂO): ')\n",
        "    client_confirm = client_confirm.lower()\n",
        "    while client_confirm != 's' and client_confirm != 'n':\n",
        "      print ('Valor Inválido. Tente novamente')\n",
        "      client_confirm = input ('Pagamento com Cartão Tabajara? (S para SIM / N para NÂO): ')\n",
        "      client_confirm = client_confirm.lower()\n",
        "    else:\n",
        "      if client_confirm == 's':\n",
        "        desconto = total_picanha * 5/100\n",
        "        print (''*10)\n",
        "        print (f'Valor da compra R$ {total_picanha - desconto:.2f} para {kg_picanha:.2f} kg(s) de Picanha.')\n",
        "        print (f'Desconto Cliente Tabajara: (-) R$ {desconto:.2f} .')\n",
        "      else:\n",
        "        print (''*10)\n",
        "        print (f'Valor da compra R$ {total_picanha:.2f} para {kg_picanha:.2f} kg(s) de Picanha.')\n",
        "  else:\n",
        "    preco_picanha = 7.8\n",
        "    total_picanha = kg_picanha * preco_picanha\n",
        "\n",
        "#Cartao Tabajara kg por R$ 7.80\n",
        "    client_confirm = input ('Pagamento com Cartão Tabajara? (S para SIM / N para NÂO): ')\n",
        "    client_confirm = client_confirm.lower()\n",
        "    while client_confirm != 's' and client_confirm != 'n':\n",
        "      print ('Valor Inválido. Tente novamente')\n",
        "      client_confirm = input ('Pagamento com Cartão Tabajara? (S para SIM / N para NÂO): ')\n",
        "      client_confirm = client_confirm.lower()\n",
        "    else:\n",
        "      if client_confirm == 's':\n",
        "        desconto = total_picanha * 5/100\n",
        "        print (''*10)\n",
        "        print (f'Valor da compra R$ {total_picanha - desconto:.2f} para {kg_picanha:.2f} kg(s) de Picanha.')\n",
        "        print (f'Desconto Cliente Tabajara: (-) R$ {desconto:.2f} .')\n",
        "      else:\n",
        "        print (''*10)\n",
        "        print (f'Valor da compra R$ {total_picanha:.2f} para {kg_picanha:.2f} kg(s) de Picanha.')\n",
        "\n",
        "print (' '*20)\n",
        "print ('O Super Mercado Tabajara Agradece. Volte sempre!')"
      ],
      "metadata": {
        "colab": {
          "base_uri": "https://localhost:8080/"
        },
        "id": "_FoPn6sKM0An",
        "outputId": "5bc9570b-df72-4014-e65c-19a313e99ff6"
      },
      "execution_count": null,
      "outputs": [
        {
          "output_type": "stream",
          "name": "stdout",
          "text": [
            "Bem-vindo ao Super Mercado Tabajara!\n",
            "Estamos com uma promoção de carnes imperdível.\n",
            "          \n",
            "Opções: File Duplo / Alcatra / Picanha.\n",
            "          \n",
            "Digite a carne que você deseja comprar: aLCATRA\n",
            "\n",
            "Quantos kilos de Alcatra você gostaria de comprar? 7.5\n",
            "Pagamento com Cartão Tabajara? (S para SIM / N para NÂO): nAO\n",
            "Valor Inválido. Tente novamente\n",
            "Pagamento com Cartão Tabajara? (S para SIM / N para NÂO): N\n",
            "\n",
            "Valor da compra R$ 51.00 para 7.50 kg(s) de Alcatra.\n",
            "                    \n",
            "O Super Mercado Tabajara Agradece. Volte sempre!\n"
          ]
        }
      ]
    },
    {
      "cell_type": "markdown",
      "source": [
        "#[Estrutura de Repetição](https://wiki.python.org.br/EstruturaDeRepeticao)\n",
        "* Em andamento..."
      ],
      "metadata": {
        "id": "ejugJLSSZai6"
      }
    },
    {
      "cell_type": "markdown",
      "source": [
        "**Exercício 1.**\n",
        "* Faça um programa que peça uma nota, entre zero e dez. \n",
        "\n",
        "  Mostre uma mensagem caso o valor seja inválido e continue pedindo até que o usuário informe um valor válido.\n"
      ],
      "metadata": {
        "id": "zRvUTL-1Z8IU"
      }
    },
    {
      "cell_type": "code",
      "source": [
        "while True:\n",
        "  try:\n",
        "    numero = int( input('Informe um número de 1 a 10: '))\n",
        "  except ValueError:\n",
        "    print ('Deve ser fornecido um valor inteiro.')\n",
        "  else:\n",
        "    if 0 <= numero <= 10:\n",
        "      print (f'O número informado foi: {numero}.') \n",
        "      break\n",
        "    else:\n",
        "      print ('O número deve estar entre 0 e 10.')"
      ],
      "metadata": {
        "colab": {
          "base_uri": "https://localhost:8080/"
        },
        "id": "CS1H7fq3aGcr",
        "outputId": "0d238c5b-6ace-4711-e888-d1dce96223c8"
      },
      "execution_count": null,
      "outputs": [
        {
          "output_type": "stream",
          "name": "stdout",
          "text": [
            "Informe um número de 1 a 10: 5\n",
            "O número informado foi: 5.\n"
          ]
        }
      ]
    },
    {
      "cell_type": "markdown",
      "source": [
        "**Exercício 2.**\n",
        "\n",
        "* Faça um programa que leia um nome de usuário e a sua senha e não aceite a senha igual ao nome do usuário, mostrando uma mensagem de erro e voltando a pedir as informações.\n"
      ],
      "metadata": {
        "id": "C7U3axLMlwbO"
      }
    },
    {
      "cell_type": "code",
      "source": [
        "ok = False\n",
        "while not ok:\n",
        "  try:\n",
        "    login = input('Informe um login para acesso : ')\n",
        "    senha = input('Informe uma senha para acesso: ')\n",
        "  except ValueError:\n",
        "    print (' ')\n",
        "  if login == senha:\n",
        "      print (f'O login e senha não podem ser iguais.') \n",
        "  else:\n",
        "      print ('Cadastro realizado com sucesso.')\n",
        "      break"
      ],
      "metadata": {
        "colab": {
          "base_uri": "https://localhost:8080/"
        },
        "id": "df_aC8eLePSH",
        "outputId": "3787dc0a-f2b2-4681-d2ce-5b2a005daea1"
      },
      "execution_count": null,
      "outputs": [
        {
          "output_type": "stream",
          "name": "stdout",
          "text": [
            "Informe um login para acesso : luizGouveia\n",
            "Informe uma senha para acesso: luizGouveia\n",
            "O login e senha não podem ser iguais.\n",
            "Informe um login para acesso : lgo1234\n",
            "Informe uma senha para acesso: lgo1234\n",
            "O login e senha não podem ser iguais.\n",
            "Informe um login para acesso : 32578LL\n",
            "Informe uma senha para acesso: 32578LL\n",
            "O login e senha não podem ser iguais.\n",
            "Informe um login para acesso : lgou\n",
            "Informe uma senha para acesso: 9999\n",
            "Cadastro realizado com sucesso.\n"
          ]
        }
      ]
    },
    {
      "cell_type": "markdown",
      "source": [
        "**Exercício 3.**\n",
        "\n",
        "* Faça um programa que leia e valide as seguintes informações:\n",
        "  \n",
        "  Nome: maior que 3 caracteres;\n",
        "\n",
        "  Idade: entre 0 e 150;\n",
        "\n",
        "  Salário: maior que zero;\n",
        "\n",
        "  Sexo: 'f' ou 'm';\n",
        "\n",
        "  Estado Civil: 's', 'c', 'v', 'd';\n"
      ],
      "metadata": {
        "id": "4n-faI3ln9Rc"
      }
    },
    {
      "cell_type": "code",
      "source": [
        "#Nome\n",
        "nome = str( input('Informe seu nome : '))\n",
        "while len(nome) <= 2:\n",
        "  print (f'O nome deve conter mais que 3 caracteres.')\n",
        "  nome = str( input('Informe seu nome : '))\n",
        "#Idade\n",
        "idade = int(input('Informe sua idade: '))\n",
        "while idade < 0 or idade > 150:  \n",
        "  print (f'A idade deve ser entre 0 a 150 anos.')\n",
        "  idade = int(input('Informe sua idade: '))\n",
        "#Salario   \n",
        "salario = float(input('Informe seu salário: '))\n",
        "while salario < 0:\n",
        "  print (f'O salário deve ser maior que 0.')  \n",
        "  salario = float(input('Informe seu salário: '))\n",
        "#Sexo\n",
        "sexo = str(input('Informe seu sexo (\"f\" para feminino / \"m\" para masculino): '))\n",
        "sexo = sexo.lower()\n",
        "while sexo != 'f' and sexo != 'm':  \n",
        "  print (f'O sexo informado deve ser \"F\" para feminino ou \"M\" para masculino.') \n",
        "  sexo = str(input('Informe seu sexo (\"F\" para feminino / \"M\" para masculino): '))\n",
        "  sexo = sexo.lower()\n",
        "#EstadoCivil  \n",
        "e_civil = str(input('Informe seu estado civil (\"S\" para solteiro(a) , \"C\" para Casado(a), \"V\" para viúvo(a) ou \"D\" para divorciado(a): '))\n",
        "e_civil = e_civil.lower()\n",
        "while e_civil != 's' and e_civil != 'c' and e_civil != \"v\" and e_civil != \"d\":\n",
        "  print (f'Valor inválido.')\n",
        "  e_civil = str(input('Informe seu estado civil (\"S\" para solteiro(a) , \"C\" para Casado(a), \"V\" para viúvo(a) ou \"D\" para divorciado(a): '))\n",
        "  e_civil = e_civil.lower()\n",
        "#Break\n",
        "else:\n",
        "  print ('Cadastro realizado com sucesso.')"
      ],
      "metadata": {
        "colab": {
          "base_uri": "https://localhost:8080/"
        },
        "id": "nVVa-TzBm6sk",
        "outputId": "a1df79af-3ecb-47a7-d29e-1f18b18f36b5"
      },
      "execution_count": null,
      "outputs": [
        {
          "output_type": "stream",
          "name": "stdout",
          "text": [
            "Informe seu nome : Lg\n",
            "O nome deve conter mais que 3 caracteres.\n",
            "Informe seu nome : Luiz\n",
            "Informe sua idade: -87\n",
            "A idade deve ser entre 0 a 150 anos.\n",
            "Informe sua idade: -856\n",
            "A idade deve ser entre 0 a 150 anos.\n",
            "Informe sua idade: 32\n",
            "Informe seu salário: -8754\n",
            "O salário deve ser maior que 0.\n",
            "Informe seu salário: 9000\n",
            "Informe seu sexo (\"f\" para feminino / \"m\" para masculino): G\n",
            "O sexo informado deve ser \"f\" para feminino ou \"m\" para masculino.\n",
            "Informe seu sexo (\"f\" para feminino / \"m\" para masculino): M\n",
            "Informe seu estado civil (\"S\" para solteiro(a) , \"C\" para Casado(a), \"V\" para viúvo(a) ou \"D\" para divorciado(a): F\n",
            "Valor inválido.\n",
            "Informe seu estado civil (\"S\" para solteiro(a) , \"C\" para Casado(a), \"V\" para viúvo(a) ou \"D\" para divorciado(a): D\n",
            "Cadastro realizado com sucesso.\n"
          ]
        }
      ]
    },
    {
      "cell_type": "markdown",
      "source": [
        "**Exercício 4.**\n",
        "* Supondo que a população de um país A seja da ordem de 80000 habitantes com uma taxa anual de crescimento de 3% e que a população de B seja 200000 habitantes com uma taxa de crescimento de 1.5%. Faça um programa que calcule e escreva o número de anos necessários para que a população do país A ultrapasse ou iguale a população do país B, mantidas as taxas de crescimento.\n"
      ],
      "metadata": {
        "id": "F3QMsjDu0pb_"
      }
    },
    {
      "cell_type": "code",
      "source": [
        "populacao_a = 80_000\n",
        "populacao_b = 200_000\n",
        "taxa_crescimento_a = 1.03\n",
        "taxa_crescimento_b = 1.015\n",
        "ano = 0\n",
        "\n",
        "while populacao_a < populacao_b:\n",
        "  print (f'##### Populações no ano {ano}.')\n",
        "  print (' '*10) \n",
        "  print (f'População de A: {populacao_a} .')\n",
        "  print (f'População de B: {populacao_b} .')\n",
        "  ano += 1\n",
        "  populacao_a = int(populacao_a * taxa_crescimento_a)\n",
        "  populacao_b = int (populacao_b * taxa_crescimento_b)\n",
        "# outra forma de fazer a mesma conta seria:\n",
        "# populacao_a *= taxa_crescimento_a\n",
        "#outra forma de converter em inteiro seria\n",
        "# populacao_a = int (populacao_a)\n",
        "print (' '*2)\n",
        "print (f'{ano} anos para a população do país A se igualar ou ultrapassar a população do país B.')\n",
        "print (f'População de A: {populacao_a} .')\n",
        "print (f'População de B: {populacao_b} .')"
      ],
      "metadata": {
        "colab": {
          "base_uri": "https://localhost:8080/"
        },
        "id": "0-iKJq1g1qFc",
        "outputId": "66c2aafa-5b3d-4632-8ff4-19b5f8165f1b"
      },
      "execution_count": null,
      "outputs": [
        {
          "output_type": "stream",
          "name": "stdout",
          "text": [
            "##### Populações no ano 0.\n",
            "          \n",
            "População de A: 80000 .\n",
            "População de B: 200000 .\n",
            "##### Populações no ano 1.\n",
            "          \n",
            "População de A: 82400 .\n",
            "População de B: 202999 .\n",
            "##### Populações no ano 2.\n",
            "          \n",
            "População de A: 84872 .\n",
            "População de B: 206043 .\n",
            "##### Populações no ano 3.\n",
            "          \n",
            "População de A: 87418 .\n",
            "População de B: 209133 .\n",
            "##### Populações no ano 4.\n",
            "          \n",
            "População de A: 90040 .\n",
            "População de B: 212269 .\n",
            "##### Populações no ano 5.\n",
            "          \n",
            "População de A: 92741 .\n",
            "População de B: 215453 .\n",
            "##### Populações no ano 6.\n",
            "          \n",
            "População de A: 95523 .\n",
            "População de B: 218684 .\n",
            "##### Populações no ano 7.\n",
            "          \n",
            "População de A: 98388 .\n",
            "População de B: 221964 .\n",
            "##### Populações no ano 8.\n",
            "          \n",
            "População de A: 101339 .\n",
            "População de B: 225293 .\n",
            "##### Populações no ano 9.\n",
            "          \n",
            "População de A: 104379 .\n",
            "População de B: 228672 .\n",
            "##### Populações no ano 10.\n",
            "          \n",
            "População de A: 107510 .\n",
            "População de B: 232102 .\n",
            "##### Populações no ano 11.\n",
            "          \n",
            "População de A: 110735 .\n",
            "População de B: 235583 .\n",
            "##### Populações no ano 12.\n",
            "          \n",
            "População de A: 114057 .\n",
            "População de B: 239116 .\n",
            "##### Populações no ano 13.\n",
            "          \n",
            "População de A: 117478 .\n",
            "População de B: 242702 .\n",
            "##### Populações no ano 14.\n",
            "          \n",
            "População de A: 121002 .\n",
            "População de B: 246342 .\n",
            "##### Populações no ano 15.\n",
            "          \n",
            "População de A: 124632 .\n",
            "População de B: 250037 .\n",
            "##### Populações no ano 16.\n",
            "          \n",
            "População de A: 128370 .\n",
            "População de B: 253787 .\n",
            "##### Populações no ano 17.\n",
            "          \n",
            "População de A: 132221 .\n",
            "População de B: 257593 .\n",
            "##### Populações no ano 18.\n",
            "          \n",
            "População de A: 136187 .\n",
            "População de B: 261456 .\n",
            "##### Populações no ano 19.\n",
            "          \n",
            "População de A: 140272 .\n",
            "População de B: 265377 .\n",
            "##### Populações no ano 20.\n",
            "          \n",
            "População de A: 144480 .\n",
            "População de B: 269357 .\n",
            "##### Populações no ano 21.\n",
            "          \n",
            "População de A: 148814 .\n",
            "População de B: 273397 .\n",
            "##### Populações no ano 22.\n",
            "          \n",
            "População de A: 153278 .\n",
            "População de B: 277497 .\n",
            "##### Populações no ano 23.\n",
            "          \n",
            "População de A: 157876 .\n",
            "População de B: 281659 .\n",
            "##### Populações no ano 24.\n",
            "          \n",
            "População de A: 162612 .\n",
            "População de B: 285883 .\n",
            "##### Populações no ano 25.\n",
            "          \n",
            "População de A: 167490 .\n",
            "População de B: 290171 .\n",
            "##### Populações no ano 26.\n",
            "          \n",
            "População de A: 172514 .\n",
            "População de B: 294523 .\n",
            "##### Populações no ano 27.\n",
            "          \n",
            "População de A: 177689 .\n",
            "População de B: 298940 .\n",
            "##### Populações no ano 28.\n",
            "          \n",
            "População de A: 183019 .\n",
            "População de B: 303424 .\n",
            "##### Populações no ano 29.\n",
            "          \n",
            "População de A: 188509 .\n",
            "População de B: 307975 .\n",
            "##### Populações no ano 30.\n",
            "          \n",
            "População de A: 194164 .\n",
            "População de B: 312594 .\n",
            "##### Populações no ano 31.\n",
            "          \n",
            "População de A: 199988 .\n",
            "População de B: 317282 .\n",
            "##### Populações no ano 32.\n",
            "          \n",
            "População de A: 205987 .\n",
            "População de B: 322041 .\n",
            "##### Populações no ano 33.\n",
            "          \n",
            "População de A: 212166 .\n",
            "População de B: 326871 .\n",
            "##### Populações no ano 34.\n",
            "          \n",
            "População de A: 218530 .\n",
            "População de B: 331774 .\n",
            "##### Populações no ano 35.\n",
            "          \n",
            "População de A: 225085 .\n",
            "População de B: 336750 .\n",
            "##### Populações no ano 36.\n",
            "          \n",
            "População de A: 231837 .\n",
            "População de B: 341801 .\n",
            "##### Populações no ano 37.\n",
            "          \n",
            "População de A: 238792 .\n",
            "População de B: 346928 .\n",
            "##### Populações no ano 38.\n",
            "          \n",
            "População de A: 245955 .\n",
            "População de B: 352131 .\n",
            "##### Populações no ano 39.\n",
            "          \n",
            "População de A: 253333 .\n",
            "População de B: 357412 .\n",
            "##### Populações no ano 40.\n",
            "          \n",
            "População de A: 260932 .\n",
            "População de B: 362773 .\n",
            "##### Populações no ano 41.\n",
            "          \n",
            "População de A: 268759 .\n",
            "População de B: 368214 .\n",
            "##### Populações no ano 42.\n",
            "          \n",
            "População de A: 276821 .\n",
            "População de B: 373737 .\n",
            "##### Populações no ano 43.\n",
            "          \n",
            "População de A: 285125 .\n",
            "População de B: 379343 .\n",
            "##### Populações no ano 44.\n",
            "          \n",
            "População de A: 293678 .\n",
            "População de B: 385033 .\n",
            "##### Populações no ano 45.\n",
            "          \n",
            "População de A: 302488 .\n",
            "População de B: 390808 .\n",
            "##### Populações no ano 46.\n",
            "          \n",
            "População de A: 311562 .\n",
            "População de B: 396670 .\n",
            "##### Populações no ano 47.\n",
            "          \n",
            "População de A: 320908 .\n",
            "População de B: 402620 .\n",
            "##### Populações no ano 48.\n",
            "          \n",
            "População de A: 330535 .\n",
            "População de B: 408659 .\n",
            "##### Populações no ano 49.\n",
            "          \n",
            "População de A: 340451 .\n",
            "População de B: 414788 .\n",
            "##### Populações no ano 50.\n",
            "          \n",
            "População de A: 350664 .\n",
            "População de B: 421009 .\n",
            "##### Populações no ano 51.\n",
            "          \n",
            "População de A: 361183 .\n",
            "População de B: 427324 .\n",
            "##### Populações no ano 52.\n",
            "          \n",
            "População de A: 372018 .\n",
            "População de B: 433733 .\n",
            "##### Populações no ano 53.\n",
            "          \n",
            "População de A: 383178 .\n",
            "População de B: 440238 .\n",
            "##### Populações no ano 54.\n",
            "          \n",
            "População de A: 394673 .\n",
            "População de B: 446841 .\n",
            "##### Populações no ano 55.\n",
            "          \n",
            "População de A: 406513 .\n",
            "População de B: 453543 .\n",
            "##### Populações no ano 56.\n",
            "          \n",
            "População de A: 418708 .\n",
            "População de B: 460346 .\n",
            "##### Populações no ano 57.\n",
            "          \n",
            "População de A: 431269 .\n",
            "População de B: 467251 .\n",
            "##### Populações no ano 58.\n",
            "          \n",
            "População de A: 444207 .\n",
            "População de B: 474259 .\n",
            "##### Populações no ano 59.\n",
            "          \n",
            "População de A: 457533 .\n",
            "População de B: 481372 .\n",
            "##### Populações no ano 60.\n",
            "          \n",
            "População de A: 471258 .\n",
            "População de B: 488592 .\n",
            "##### Populações no ano 61.\n",
            "          \n",
            "População de A: 485395 .\n",
            "População de B: 495920 .\n",
            "##### Populações no ano 62.\n",
            "          \n",
            "População de A: 499956 .\n",
            "População de B: 503358 .\n",
            "  \n",
            "63 anos para a população do país A se igualar ou ultrapassar a população do país B.\n",
            "População de A: 514954 .\n",
            "População de B: 510908 .\n"
          ]
        }
      ]
    },
    {
      "cell_type": "markdown",
      "source": [
        "**Exercício 5.**\n",
        "\n",
        "* Altere o programa anterior permitindo ao usuário informar as populações e as taxas de crescimento iniciais. Valide a entrada e permita repetir a operação.\n"
      ],
      "metadata": {
        "id": "0QjLQG99dWhT"
      }
    },
    {
      "cell_type": "code",
      "source": [
        "print ('Descubra em quantos anos a população do país A se igualará ou ultrapassará o país B.')\n",
        "print (' '*10)\n",
        "\n",
        "##### VALIDADOR DE NÚMERO INTEIRO #####\n",
        "\n",
        "### POPULAÇÃO A ###\n",
        "def leiaInt (mensagem):\n",
        "  ok = False\n",
        "  valor = 0\n",
        "  while True:\n",
        "    populacao_a = str(input(mensagem))\n",
        "    if populacao_a.isnumeric():\n",
        "      valor = int(populacao_a)\n",
        "      ok = True\n",
        "    else:\n",
        "      print ('Valor Inválido. Tente novamente.')\n",
        "    if ok:\n",
        "      break\n",
        "  return valor\n",
        "\n",
        "### POPULAÇÃO B ###\n",
        "def leiaInt (mensagem):\n",
        "  ok = False\n",
        "  valor = 0\n",
        "  while True:\n",
        "    populacao_b = str(input(mensagem))\n",
        "    if populacao_b.isnumeric():\n",
        "      valor = int(populacao_b)\n",
        "      ok = True\n",
        "    else:\n",
        "      print ('Valor Inválido. Tente novamente.')\n",
        "    if ok:\n",
        "      break\n",
        "  return valor\n",
        "\n",
        "##########################################\n",
        "### INPUT POPULAÇÃO ###\n",
        "populacao_a = leiaInt('Digite o número da população A: ')\n",
        "populacao_b = leiaInt('Digite o número da população B: ')\n",
        "\n",
        "##########################################\n",
        "### INPUT TAXA DE CRESCIMENTO ###\n",
        "\n",
        "# VALIDADOR DE PONTO FLUTUANTE #\n",
        "### TAXA DE CRESCIMENTO PAÍS A ###\n",
        "ok = False\n",
        "while not ok:\n",
        "  try:\n",
        "    taxa_crescimento_a = float( input('Digite a Taxa de Crescimento do País A: '))\n",
        "    ok = True\n",
        "  except ValueError:\n",
        "    print ('Valor Inválido.')\n",
        "\n",
        "### TAXA DE CRESCIMENTO PAÍS B ###\n",
        "ok = False\n",
        "while not ok:\n",
        "  try:\n",
        "    taxa_crescimento_b = float( input('Digite a Taxa de Crescimento do País B: '))\n",
        "    ok = True\n",
        "  except ValueError:\n",
        "    print ('Valor Inválido.')\n",
        "##########################################\n",
        "\n",
        "ano = 0\n",
        "\n",
        "while populacao_a < populacao_b:\n",
        "  print (f'##### Populações no ano {ano}.')\n",
        "  print (' '*10) \n",
        "  print (f'População de A: {populacao_a} .')\n",
        "  print (f'População de B: {populacao_b} .')\n",
        "  ano += 1\n",
        "  populacao_a = int(populacao_a * taxa_crescimento_a)\n",
        "  populacao_b = int (populacao_b * taxa_crescimento_b)\n",
        "# outra forma de fazer a mesma conta seria:\n",
        "# populacao_a *= taxa_crescimento_a\n",
        "#outra forma de converter em inteiro seria\n",
        "# populacao_a = int (populacao_a)\n",
        "print (' '*2)\n",
        "print (f'{ano} anos para a população do país A se igualar ou ultrapassar a população do país B.')\n",
        "print (f'População de A: {populacao_a} .')\n",
        "print (f'População de B: {populacao_b} .')"
      ],
      "metadata": {
        "colab": {
          "base_uri": "https://localhost:8080/"
        },
        "id": "Zv94xUq6WZwv",
        "outputId": "fdd6bcf3-2990-49b9-ebd7-e753a8996602"
      },
      "execution_count": null,
      "outputs": [
        {
          "output_type": "stream",
          "name": "stdout",
          "text": [
            "Descubra em quantos anos a população do país A se igualará ou ultrapassará o país B.\n",
            "          \n",
            "Digite o número da população A: 5siuhdiuahde\n",
            "Valor Inválido. Tente novamente.\n",
            "Digite o número da população A: 10000\n",
            "Digite o número da população B: kjdabdbaieda\n",
            "Valor Inválido. Tente novamente.\n",
            "Digite o número da população B: 50000\n",
            "Digite a Taxa de Crescimento do País A: daiuhdeuda\n",
            "Valor Inválido.\n",
            "Digite a Taxa de Crescimento do País A: dbaibdeda\n",
            "Valor Inválido.\n",
            "Digite a Taxa de Crescimento do País A: 1.5\n",
            "Digite a Taxa de Crescimento do País B: daiudheuida\n",
            "Valor Inválido.\n",
            "Digite a Taxa de Crescimento do País B: 1.3\n",
            "##### Populações no ano 0.\n",
            "          \n",
            "População de A: 10000 .\n",
            "População de B: 50000 .\n",
            "##### Populações no ano 1.\n",
            "          \n",
            "População de A: 15000 .\n",
            "População de B: 65000 .\n",
            "##### Populações no ano 2.\n",
            "          \n",
            "População de A: 22500 .\n",
            "População de B: 84500 .\n",
            "##### Populações no ano 3.\n",
            "          \n",
            "População de A: 33750 .\n",
            "População de B: 109850 .\n",
            "##### Populações no ano 4.\n",
            "          \n",
            "População de A: 50625 .\n",
            "População de B: 142805 .\n",
            "##### Populações no ano 5.\n",
            "          \n",
            "População de A: 75937 .\n",
            "População de B: 185646 .\n",
            "##### Populações no ano 6.\n",
            "          \n",
            "População de A: 113905 .\n",
            "População de B: 241339 .\n",
            "##### Populações no ano 7.\n",
            "          \n",
            "População de A: 170857 .\n",
            "População de B: 313740 .\n",
            "##### Populações no ano 8.\n",
            "          \n",
            "População de A: 256285 .\n",
            "População de B: 407862 .\n",
            "##### Populações no ano 9.\n",
            "          \n",
            "População de A: 384427 .\n",
            "População de B: 530220 .\n",
            "##### Populações no ano 10.\n",
            "          \n",
            "População de A: 576640 .\n",
            "População de B: 689286 .\n",
            "##### Populações no ano 11.\n",
            "          \n",
            "População de A: 864960 .\n",
            "População de B: 896071 .\n",
            "  \n",
            "12 anos para a população do país A se igualar ou ultrapassar a população do país B.\n",
            "População de A: 1297440 .\n",
            "População de B: 1164892 .\n"
          ]
        }
      ]
    },
    {
      "cell_type": "code",
      "source": [
        ""
      ],
      "metadata": {
        "id": "BBXyRJZyh2hK"
      },
      "execution_count": null,
      "outputs": []
    },
    {
      "cell_type": "markdown",
      "source": [
        "**Exercício 6.**\n",
        "* Faça um programa que imprima na tela os números de 1 a 20, um abaixo do outro. Depois modifique o programa para que ele mostre os números um ao lado do outro."
      ],
      "metadata": {
        "id": "hu1JfERPdWk8"
      }
    },
    {
      "cell_type": "code",
      "source": [
        "i = 0\n",
        "lista = list (range(21))\n",
        "\n",
        "while i < len(lista):\n",
        "  print (lista[i])\n",
        "  i += 1\n",
        "\n",
        "print (lista)"
      ],
      "metadata": {
        "id": "UrDimUp6dYPV",
        "colab": {
          "base_uri": "https://localhost:8080/"
        },
        "outputId": "33d6bf7a-cda8-4069-d7eb-59b43050aba7"
      },
      "execution_count": null,
      "outputs": [
        {
          "output_type": "stream",
          "name": "stdout",
          "text": [
            "0\n",
            "1\n",
            "2\n",
            "3\n",
            "4\n",
            "5\n",
            "6\n",
            "7\n",
            "8\n",
            "9\n",
            "10\n",
            "11\n",
            "12\n",
            "13\n",
            "14\n",
            "15\n",
            "16\n",
            "17\n",
            "18\n",
            "19\n",
            "20\n",
            "[0, 1, 2, 3, 4, 5, 6, 7, 8, 9, 10, 11, 12, 13, 14, 15, 16, 17, 18, 19, 20]\n"
          ]
        }
      ]
    },
    {
      "cell_type": "markdown",
      "source": [
        "**Exercício 7.**  \n",
        "* Faça um programa que leia 5 números e informe o maior número."
      ],
      "metadata": {
        "id": "xGRGBsBdKBcP"
      }
    },
    {
      "cell_type": "code",
      "source": [
        "ok = False\n",
        "while not ok:\n",
        "  try:\n",
        "    maximo = float(input('Digite um número: '))\n",
        "    ok = True\n",
        "  except ValueError:\n",
        "    print ('Valor Inválido. Tente novamente.')\n",
        "\n",
        "for _ in range(4):\n",
        "  maximo = max(maximo, float(input('Digite um número: ')))\n",
        "  print (f'Número maximo encontrado até agora é {maximo}')"
      ],
      "metadata": {
        "colab": {
          "base_uri": "https://localhost:8080/"
        },
        "id": "Fm66kN5bHpNS",
        "outputId": "ff71571d-bb59-4621-9406-1a6d9cf9e5dd"
      },
      "execution_count": null,
      "outputs": [
        {
          "output_type": "stream",
          "name": "stdout",
          "text": [
            "Digite um número: suhauhes\n",
            "Valor Inválido. Tente novamente.\n",
            "Digite um número: 234\n",
            "Digite um número: 1234\n",
            "Número maximo encontrado até agora é 1234.0\n",
            "Digite um número: 23\n",
            "Número maximo encontrado até agora é 1234.0\n",
            "Digite um número: 234\n",
            "Número maximo encontrado até agora é 1234.0\n",
            "Digite um número: 456\n",
            "Número maximo encontrado até agora é 1234.0\n",
            "Digite um número: 5000\n",
            "Número maximo encontrado até agora é 5000.0\n",
            "Digite um número: 5001\n",
            "Número maximo encontrado até agora é 5001.0\n"
          ]
        }
      ]
    },
    {
      "cell_type": "markdown",
      "source": [
        "**Exercício 8.**\n",
        "\n",
        "* Faça um programa que leia 5 números e informe a soma e a média dos números."
      ],
      "metadata": {
        "id": "McawtUByOROd"
      }
    },
    {
      "cell_type": "code",
      "source": [
        "ok = False\n",
        "while not ok:\n",
        "  try:\n",
        "    numero = float(input('Digite um número: '))\n",
        "    ok = True\n",
        "  except ValueError:\n",
        "    print ('Valor Inválido. Tente novamente.')\n",
        "\n",
        "for i in range(4):\n",
        "  numero = (numero + float(input('Digite mais um número: ')))  \n",
        "  i += 2\n",
        "  media = numero / i\n",
        "  print (' '*2)\n",
        "  print (f'Até agora a soma dos números é {numero:.2f}')\n",
        "  print (f'A média dos {i} números somados é {media:.2f}')\n",
        "  print (' '*2)"
      ],
      "metadata": {
        "colab": {
          "base_uri": "https://localhost:8080/"
        },
        "id": "hoFdXgp9Odui",
        "outputId": "c659b8ba-3e65-4544-e86c-d1024b704258"
      },
      "execution_count": null,
      "outputs": [
        {
          "output_type": "stream",
          "name": "stdout",
          "text": [
            "Digite um número: 10\n",
            "Digite mais um número: 10\n",
            "  \n",
            "Até agora a soma dos números é 20.00\n",
            "A média dos 2 números somados é 10.00\n",
            "  \n",
            "Digite mais um número: 10\n",
            "  \n",
            "Até agora a soma dos números é 30.00\n",
            "A média dos 3 números somados é 10.00\n",
            "  \n",
            "Digite mais um número: 10\n",
            "  \n",
            "Até agora a soma dos números é 40.00\n",
            "A média dos 4 números somados é 10.00\n",
            "  \n",
            "Digite mais um número: 10\n",
            "  \n",
            "Até agora a soma dos números é 50.00\n",
            "A média dos 5 números somados é 10.00\n",
            "  \n"
          ]
        }
      ]
    },
    {
      "cell_type": "markdown",
      "source": [
        "**Exercício 9**\n",
        "* Faça um programa que imprima na tela apenas os números ímpares entre 1 e 50."
      ],
      "metadata": {
        "id": "Eq_X_xyGYNfv"
      }
    },
    {
      "cell_type": "code",
      "source": [
        "start, end = 1, 50\n",
        "for num in range (start, end +1):\n",
        "  if num % 2 != 0:\n",
        "    print (num, end = \" \")"
      ],
      "metadata": {
        "colab": {
          "base_uri": "https://localhost:8080/"
        },
        "id": "iApVV-IHR7em",
        "outputId": "a7beee12-e116-413b-c6d8-a5602fc986bd"
      },
      "execution_count": null,
      "outputs": [
        {
          "output_type": "stream",
          "name": "stdout",
          "text": [
            "1 3 5 7 9 11 13 15 17 19 21 23 25 27 29 31 33 35 37 39 41 43 45 47 49 "
          ]
        }
      ]
    },
    {
      "cell_type": "markdown",
      "source": [
        "**Exercício 10.**\n",
        "* Faça um programa que receba dois números inteiros e gere os números inteiros que estão no intervalo compreendido por eles."
      ],
      "metadata": {
        "id": "ZhF7-4eja2mX"
      }
    },
    {
      "cell_type": "code",
      "source": [
        "### VALIDADOR NUMERO INTEIRO - START ###\n",
        "def leiaInt (mensagem):\n",
        "  ok = False\n",
        "  valor = 0\n",
        "  while True:\n",
        "    start = str(input(mensagem))\n",
        "    if start.isnumeric():\n",
        "      valor = int(start)\n",
        "      ok = True\n",
        "    else:\n",
        "      print ('O número não é inteiro. Tente novamente.')\n",
        "    if ok:\n",
        "      break\n",
        "  return valor\n",
        "\n",
        "# INPUT START #\n",
        "start = leiaInt('Digite um número inteiro: ')\n",
        "\n",
        "### VALIDADOR NUMERO INTEIRO - END ###\n",
        "def leiaInt (mensagem):\n",
        "  ok = False\n",
        "  valor = 0\n",
        "  while True:\n",
        "    end = str(input(mensagem))\n",
        "    if end.isnumeric():\n",
        "      valor = int(end)\n",
        "      ok = True\n",
        "    else:\n",
        "      print ('O número não é inteiro. Tente novamente.')\n",
        "    if ok:\n",
        "      break\n",
        "  return valor\n",
        "\n",
        "# INPUT END #\n",
        "end = leiaInt('Digite outro número inteiro: ')\n",
        "\n",
        "# IMPRESSÃO INTERVALO #\n",
        "print (' '*2)\n",
        "print (f'Os números dentro do intervalo entre {start} e {end} são:')\n",
        "for i in range(start +1,end):\n",
        "  print (i, end =' ')\n",
        "  \n",
        "# OU...\n",
        "#for num in range (start, end):\n",
        " # if num > start and num < end:\n",
        "  #  print (num , end = \" \")"
      ],
      "metadata": {
        "colab": {
          "base_uri": "https://localhost:8080/"
        },
        "id": "uzTkS4RTYuW0",
        "outputId": "00d8845d-b7cc-4861-e008-3ec3a2d20be0"
      },
      "execution_count": null,
      "outputs": [
        {
          "output_type": "stream",
          "name": "stdout",
          "text": [
            "Digite um número inteiro: 1\n",
            "Digite outro número inteiro: 10\n",
            "  \n",
            "Os números dentro do intervalo entre 1 e 10 são:\n",
            "2 3 4 5 6 7 8 9 "
          ]
        }
      ]
    },
    {
      "cell_type": "markdown",
      "source": [
        "**Exercício 11.**\n",
        "* Altere o programa anterior para mostrar no final a soma dos números."
      ],
      "metadata": {
        "id": "IvDknUT6eRES"
      }
    },
    {
      "cell_type": "code",
      "source": [
        "### VALIDADOR NUMERO INTEIRO - START ###\n",
        "def leiaInt (mensagem):\n",
        "  ok = False\n",
        "  valor = 0\n",
        "  while True:\n",
        "    start = str(input(mensagem))\n",
        "    if start.isnumeric():\n",
        "      valor = int(start)\n",
        "      ok = True\n",
        "    else:\n",
        "      print ('O número não é inteiro. Tente novamente.')\n",
        "    if ok:\n",
        "      break\n",
        "  return valor\n",
        "\n",
        "# INPUT START #\n",
        "start = leiaInt('Digite um número inteiro: ')\n",
        "\n",
        "### VALIDADOR NUMERO INTEIRO - END ###\n",
        "def leiaInt (mensagem):\n",
        "  ok = False\n",
        "  valor = 0\n",
        "  while True:\n",
        "    end = str(input(mensagem))\n",
        "    if end.isnumeric():\n",
        "      valor = int(end)\n",
        "      ok = True\n",
        "    else:\n",
        "      print ('O número não é inteiro. Tente novamente.')\n",
        "    if ok:\n",
        "      break\n",
        "  return valor\n",
        "\n",
        "# INPUT END #\n",
        "end = leiaInt('Digite outro número inteiro: ')\n",
        "\n",
        "print (''*2)\n",
        "\n",
        "# IMPRESSÃO INTERVALO ENTRE START - END (CONTANDO OS INPUTS)#\n",
        "print (f'Vamos analisar a extensão de {start} a {end}:')\n",
        "for i in range(start,end +1):\n",
        "  print (i, end =' ')\n",
        "print (end='\\n')\n",
        "print (f'A soma de {start} a {end} é: {sum(range(start,end+1))}')\n",
        "\n",
        "print (''*2)\n",
        "\n",
        "# IMPRESSÃO INTERVALO ENTRE START - END (S/ CONTAR OS INPUTS)\n",
        "print (f'Agora analisaremos o intervalo entre {start} e {end}:')\n",
        "for i in range(start+1,end):\n",
        "  print (i, end =' ')\n",
        "print (end='\\n')\n",
        "print (f'A soma do intervalo, indo de {start+1} até {end-1}, é: {sum(range(start+1,end))}')"
      ],
      "metadata": {
        "colab": {
          "base_uri": "https://localhost:8080/"
        },
        "id": "T2TpbliVbjXG",
        "outputId": "3c37d190-00e9-4d7a-d9ef-4450604d4fbd"
      },
      "execution_count": null,
      "outputs": [
        {
          "output_type": "stream",
          "name": "stdout",
          "text": [
            "Digite um número inteiro: 1\n",
            "Digite outro número inteiro: 10\n",
            "\n",
            "Vamos analisar a extensão de 1 a 10:\n",
            "1 2 3 4 5 6 7 8 9 10 \n",
            "A soma de 1 a 10 é: 55\n",
            "\n",
            "Agora analisaremos o intervalo entre 1 e 10:\n",
            "2 3 4 5 6 7 8 9 \n",
            "A soma do intervalo, indo de 2 até 9, é: 44\n"
          ]
        }
      ]
    },
    {
      "cell_type": "markdown",
      "source": [
        "**Exercício 12.**\n",
        "\n",
        "* Desenvolva um gerador de tabuada, capaz de gerar a tabuada de qualquer número inteiro entre 1 a 10. O usuário deve informar de qual numero ele deseja ver a tabuada. A saída deve ser conforme o exemplo abaixo:\n",
        "\n",
        "      Tabuada de 5:\n",
        "\n",
        "      5 X 1 = 5\n",
        "      5 X 2 = 10\n",
        "      ...\n",
        "      5 X 10 = 50"
      ],
      "metadata": {
        "id": "dIGUuMzkyivb"
      }
    },
    {
      "cell_type": "code",
      "source": [
        "ok = False\n",
        "while not ok:\n",
        "  try:\n",
        "    numero = int(input('Digite um número inteiro de 1 a 10: '))\n",
        "    ok = True\n",
        "    if numero > 0 and numero <= 10:\n",
        "      ok = True\n",
        "    else:\n",
        "      print ('O número deve ser entre 1 a 10. Tente novamente.')\n",
        "      ok = False\n",
        "  except ValueError:\n",
        "    print ('O número deve ser inteiro. Tente novamente.')\n",
        "\n",
        "print (''*2)\n",
        "print (f'Tabuada de {numero}:')\n",
        "print (''*2)\n",
        "print (f'{numero} X 1  = {numero*1}') \n",
        "print (f'{numero} X 2  = {numero*2}')\n",
        "print (f'{numero} X 3  = {numero*3}')\n",
        "print (f'{numero} X 4  = {numero*4}')\n",
        "print (f'{numero} X 5  = {numero*5}')\n",
        "print (f'{numero} X 6  = {numero*6}')\n",
        "print (f'{numero} X 7  = {numero*7}')\n",
        "print (f'{numero} X 8  = {numero*8}')\n",
        "print (f'{numero} X 9  = {numero*9}')\n",
        "print (f'{numero} X 10 = {numero*10}')"
      ],
      "metadata": {
        "colab": {
          "base_uri": "https://localhost:8080/"
        },
        "id": "uM5toSyviSNv",
        "outputId": "4f623633-cea2-42a4-f623-66b56da98096"
      },
      "execution_count": null,
      "outputs": [
        {
          "output_type": "stream",
          "name": "stdout",
          "text": [
            "Digite um número inteiro de 1 a 10: 48\n",
            "O número deve ser entre 1 a 10. Tente novamente.\n",
            "Digite um número inteiro de 1 a 10: 67.4\n",
            "O número deve ser inteiro. Tente novamente.\n",
            "Digite um número inteiro de 1 a 10: 9\n",
            "\n",
            "Tabuada de 9:\n",
            "\n",
            "9 X 1  = 9\n",
            "9 X 2  = 18\n",
            "9 X 3  = 27\n",
            "9 X 4  = 36\n",
            "9 X 5  = 45\n",
            "9 X 6  = 54\n",
            "9 X 7  = 63\n",
            "9 X 8  = 72\n",
            "9 X 9  = 81\n",
            "9 X 10 = 90\n"
          ]
        }
      ]
    },
    {
      "cell_type": "markdown",
      "source": [
        "**Exercício 13.**\n",
        "* Faça um programa que peça dois números, base e expoente, calcule e mostre o primeiro número elevado ao segundo número. \n",
        " * Não utilize a função de potência da linguagem."
      ],
      "metadata": {
        "id": "QCP7Q8V16mDq"
      }
    },
    {
      "cell_type": "code",
      "source": [
        "print ('Calculando as potências.')\n",
        "print (' '*2)\n",
        "\n",
        "#BASE\n",
        "ok = False\n",
        "while not ok:\n",
        "  try:\n",
        "    base = int(input('Digite o número base: '))\n",
        "    ok = True\n",
        "  except ValueError:\n",
        "    print ('O número deve ser inteiro. Tente novamente.')\n",
        "\n",
        "#EXPOENTE\n",
        "ok = False\n",
        "while not ok:\n",
        "  try:\n",
        "    expoente = int(input('Digite o número expoente: '))\n",
        "    ok = True\n",
        "  except ValueError:\n",
        "    print ('O número deve ser inteiro. Tente novamente.')\n",
        "\n",
        "#RESULTADO\n",
        "print (' '*2)\n",
        "print (f'O resultado de {base}**{expoente} é: {base ** expoente}')"
      ],
      "metadata": {
        "colab": {
          "base_uri": "https://localhost:8080/"
        },
        "id": "GE7wz8oh0rG-",
        "outputId": "0e4b26c1-7477-48a2-cd9d-15a5510e3707"
      },
      "execution_count": null,
      "outputs": [
        {
          "output_type": "stream",
          "name": "stdout",
          "text": [
            "Calculando as potências.\n",
            "  \n",
            "Digite o número base: dasdeas\n",
            "O número deve ser inteiro. Tente novamente.\n",
            "Digite o número base: 3.4\n",
            "O número deve ser inteiro. Tente novamente.\n",
            "Digite o número base: 3\n",
            "Digite o número expoente: dades\n",
            "O número deve ser inteiro. Tente novamente.\n",
            "Digite o número expoente: 4.6\n",
            "O número deve ser inteiro. Tente novamente.\n",
            "Digite o número expoente: 6\n",
            "  \n",
            "O resultado de 3**6 é: 729\n"
          ]
        }
      ]
    },
    {
      "cell_type": "markdown",
      "source": [
        "**Exercício 14.**\n",
        "* Faça um programa que peça 10 números inteiros, calcule e mostre a quantidade de números pares e a quantidade de números impares."
      ],
      "metadata": {
        "id": "Yxfa3wDs9LL7"
      }
    },
    {
      "cell_type": "code",
      "source": [
        "posicao = 1\n",
        "par = 0\n",
        "impar = 0\n",
        "while posicao <= 10:\n",
        "  entrada = int(input('Digite um número: '))\n",
        "  posicao = posicao + 1\n",
        "  if entrada % 2 == 0:\n",
        "    par = par + 1\n",
        "  else:\n",
        "    impar = impar + 1\n",
        "\n",
        "print (''*2)\n",
        "print(f'A quantidade de números pares é: {par}')\n",
        "print(f'A quantidade de números ímpares é: {impar}')"
      ],
      "metadata": {
        "colab": {
          "base_uri": "https://localhost:8080/"
        },
        "id": "ErHWJf9W7kY2",
        "outputId": "5746a9d7-24d7-47c8-ab09-dcffe6762ace"
      },
      "execution_count": null,
      "outputs": [
        {
          "output_type": "stream",
          "name": "stdout",
          "text": [
            "Digite um número: 2\n",
            "Digite um número: 4\n",
            "Digite um número: 8\n",
            "Digite um número: 10\n",
            "Digite um número: 1\n",
            "Digite um número: 3\n",
            "Digite um número: 5\n",
            "Digite um número: 99\n",
            "Digite um número: 57\n",
            "Digite um número: 3\n",
            "\n",
            "A quantidade de números pares é: 4\n",
            "A quantidade de números ímpares é: 6\n"
          ]
        }
      ]
    },
    {
      "cell_type": "markdown",
      "source": [
        "**Exercício 15.**\n",
        "\n",
        "* A série de Fibonacci é formada pela seqüência 1,1,2,3,5,8,13,21,34,55,... Faça um programa capaz de gerar a série até o n−ésimo termo.\n"
      ],
      "metadata": {
        "id": "A7D-U5F2guzb"
      }
    },
    {
      "cell_type": "markdown",
      "source": [
        "#FUNÇÕES PYTHON"
      ],
      "metadata": {
        "id": "XQv29BmJyycH"
      }
    },
    {
      "cell_type": "code",
      "source": [
        "def titulo(txt):\n",
        "  print ('-'*30)\n",
        "  print (txt)\n",
        "  print ('-'*30)\n",
        "\n",
        "titulo('Olá Mundo')\n",
        "\n",
        "############################\n",
        "def soma (a,b):\n",
        "  s = a * b\n",
        "  print (f'A área do terreno é de {s}m².')\n",
        "  print ('-'*30)\n",
        "\n",
        "largura = float (input('Digite quantos metros de largura tem o terreno: '))\n",
        "comprimento = float (input('Digite quantos metros de comprimento tem o terreno: '))\n",
        "\n",
        "soma (largura,comprimento)\n",
        "############################\n",
        "\n"
      ],
      "metadata": {
        "id": "KDMaDDtx6YxX",
        "colab": {
          "base_uri": "https://localhost:8080/"
        },
        "outputId": "5dc26cae-4797-4ea0-9534-f9bd84061f1e"
      },
      "execution_count": null,
      "outputs": [
        {
          "output_type": "stream",
          "name": "stdout",
          "text": [
            "------------------------------\n",
            "Olá Mundo\n",
            "------------------------------\n",
            "Digite quantos metros de largura tem o terreno: 15\n",
            "Digite quantos metros de comprimento tem o terreno: 2.5\n",
            "A área do terreno é de 37.5m².\n",
            "------------------------------\n"
          ]
        }
      ]
    },
    {
      "cell_type": "code",
      "source": [
        "# SEGUNDO MAIOR - MODELO BASICO #\n",
        "\n",
        "def contador (lst):\n",
        "  tam = len(lst)\n",
        "  print (f'Têm {tam} números na lista.')\n",
        "  maior = max(lst)\n",
        "  print (f'O maior número da lista é o {maior}')\n",
        "  penultimo = lst.remove(maior)\n",
        "  penultimo = max(lst)\n",
        "  print (f'O penultimo maior número da lista é o {penultimo}')\n",
        "\n",
        "lista = [9, 7, 8, 1012, 151, 52, 190, 95, 109]\n",
        "contador (lista)"
      ],
      "metadata": {
        "id": "YxYXsbm1BFhH",
        "colab": {
          "base_uri": "https://localhost:8080/"
        },
        "outputId": "e4bcaf2a-7e55-486c-b605-5fc02c0dabcc"
      },
      "execution_count": null,
      "outputs": [
        {
          "output_type": "stream",
          "name": "stdout",
          "text": [
            "Têm 9 números na lista.\n",
            "O maior número da lista é o 1012\n",
            "O penultimo maior número da lista é o 190\n"
          ]
        }
      ]
    },
    {
      "cell_type": "code",
      "source": [
        "# MAIOR NÚMERO EM UMA LISTA #\n",
        "\n",
        "lista = [9, 7, 8, 102, 1510, 5245, 190, 95, 109]\n",
        "\n",
        "def maior(lista):\n",
        "  maior_numero = float('-inf')\n",
        "  for valor in lista:\n",
        "    if valor > maior_numero:\n",
        "      maior_numero = valor  \n",
        "  return maior_numero\n",
        "\n",
        "print(maior(lista))"
      ],
      "metadata": {
        "id": "cweZkRir76jU",
        "colab": {
          "base_uri": "https://localhost:8080/"
        },
        "outputId": "84dd66a3-b78c-4ccd-8c69-d86a80f8c7a6"
      },
      "execution_count": null,
      "outputs": [
        {
          "output_type": "stream",
          "name": "stdout",
          "text": [
            "5245\n"
          ]
        }
      ]
    },
    {
      "cell_type": "code",
      "source": [
        ""
      ],
      "metadata": {
        "id": "Aa7ZPCWwJelE"
      },
      "execution_count": null,
      "outputs": []
    },
    {
      "cell_type": "markdown",
      "source": [
        "#[Exercícios Listas](https://wiki.python.org.br/ExerciciosListas)\n",
        "* Em andamento...\n",
        "\n"
      ],
      "metadata": {
        "id": "gMqhYY92dZwa"
      }
    },
    {
      "cell_type": "markdown",
      "source": [
        "**Exercício 1.**\n",
        "\n",
        "**Faça um Programa que leia um vetor de 5 números inteiros e mostre-os.**\n"
      ],
      "metadata": {
        "id": "gO0Tz04peutN"
      }
    },
    {
      "cell_type": "code",
      "source": [
        "#first step: cria-se uma lista vazia com valor vazio.\n",
        "#função de acrescentar um elemento ao final da lista.\n",
        "# lista.append()\n",
        "#cria-se um laço de repetição \"for\" com adesão do \"_\"\n",
        "#pelo fato de não precisar saber o número que será adicionado ao vetor.\n",
        "\n",
        "lista = []\n",
        "for _ in range(5): # repetirá o laço 5x.\n",
        "  numero = float (input('Digite um número: '))\n",
        "  lista.append(numero)\n",
        "print (lista)"
      ],
      "metadata": {
        "colab": {
          "base_uri": "https://localhost:8080/"
        },
        "id": "EI78RxU4e_EQ",
        "outputId": "aeb03c1b-691b-480a-f94e-2cf3ee631297"
      },
      "execution_count": null,
      "outputs": [
        {
          "output_type": "stream",
          "name": "stdout",
          "text": [
            "Digite um número: 3\n",
            "Digite um número: 4\n",
            "Digite um número: 6\n",
            "Digite um número: 99\n",
            "Digite um número: 95\n",
            "[3.0, 4.0, 6.0, 99.0, 95.0]\n"
          ]
        }
      ]
    },
    {
      "cell_type": "markdown",
      "source": [
        "**Exercício 2.**\n",
        "\n",
        "**Faça um Programa que leia um vetor de 10 números reais e mostre-os na ordem inversa.**"
      ],
      "metadata": {
        "id": "byWAMRMorjSt"
      }
    },
    {
      "cell_type": "code",
      "source": [
        "lista = []\n",
        "for _ in range(10):\n",
        "  numero = float( input(' Digite um número: '))\n",
        "  lista.append(numero)\n",
        "\n",
        "print(lista[::-1])"
      ],
      "metadata": {
        "colab": {
          "base_uri": "https://localhost:8080/"
        },
        "id": "TtvswcV3q2fO",
        "outputId": "daf4cee7-7bea-4466-dce4-66f96abb1843"
      },
      "execution_count": null,
      "outputs": [
        {
          "output_type": "stream",
          "name": "stdout",
          "text": [
            " Digite um número: 1\n",
            " Digite um número: 2\n",
            " Digite um número: 44\n",
            " Digite um número: 54\n",
            " Digite um número: 34\n",
            " Digite um número: 53\n",
            " Digite um número: 3\n",
            " Digite um número: 4\n",
            " Digite um número: 5\n",
            " Digite um número: 10\n",
            "[10.0, 5.0, 4.0, 3.0, 53.0, 34.0, 54.0, 44.0, 2.0, 1.0]\n"
          ]
        }
      ]
    },
    {
      "cell_type": "markdown",
      "source": [
        "**Exercício 3.**\n",
        "**Faça um Programa que leia 4 notas, mostre as notas e a média na tela.**2"
      ],
      "metadata": {
        "id": "zmd-xeOft980"
      }
    },
    {
      "cell_type": "code",
      "source": [
        "lista = []\n",
        "for _ in range(4):\n",
        "  numero = float(input('Digite o valor da nota: '))\n",
        "  lista.append(numero)\n",
        "  soma_lista = 0\n",
        "  for i in lista:\n",
        "    soma_lista += i\n",
        "    media_lista = soma_lista/4\n",
        "print(' '*2)\n",
        "print('As notas foram:')\n",
        "for i in lista:\n",
        "  print(i)\n",
        "print(f\"Logo, a média alcançada foi {media_lista}\")"
      ],
      "metadata": {
        "colab": {
          "base_uri": "https://localhost:8080/"
        },
        "id": "IaQYdT2LsLBT",
        "outputId": "486750b0-c6ed-4c94-c7cc-24b87525a27c"
      },
      "execution_count": null,
      "outputs": [
        {
          "output_type": "stream",
          "name": "stdout",
          "text": [
            "Digite o valor da nota: 1\n",
            "Digite o valor da nota: 2\n",
            "Digite o valor da nota: 3\n",
            "Digite o valor da nota: 4\n",
            "  \n",
            "As notas foram:\n",
            "1.0\n",
            "2.0\n",
            "3.0\n",
            "4.0\n",
            "Logo, a média alcançada foi 2.5\n"
          ]
        }
      ]
    },
    {
      "cell_type": "markdown",
      "source": [
        "**Exercício 4.**\n",
        "\n",
        "**Faça um Programa que leia um vetor de 10 caracteres, e diga quantas consoantes foram lidas. Imprima as consoantes.**"
      ],
      "metadata": {
        "id": "PDyKdkh26aVp"
      }
    },
    {
      "cell_type": "code",
      "source": [
        "#VALIDADOR DE 10 CARACTERES.\n",
        "ok = False\n",
        "while not ok:\n",
        "  try:\n",
        "    palavra = str(input('Digite uma palavra com 10 caracteres: '))\n",
        "    ok = True\n",
        "    if len(palavra) >= 10:\n",
        "      ok = True\n",
        "    else:\n",
        "      print ('A palavra deve conter 10 caracteres. Tente novamente.')\n",
        "      ok = False\n",
        "  except ValueError:\n",
        "    print ('Você deve digitar somente letras. Tente novamente.')\n",
        "else:\n",
        "  resposta = (f'A palavra digitada foi {palavra}. ')\n",
        "  print ('-'*len(resposta))\n",
        "  print (resposta)\n",
        "  print (f'Tendo no total {len(palavra)} caracteres.')\n",
        "  print ('-'*len(resposta))\n",
        "\n",
        "#CONTADOR DE VOGAIS E CONSOANTES.\n",
        "vogais = 0\n",
        "consoantes = 0\n",
        "for caracter in palavra:\n",
        "  if caracter in 'aeiou':\n",
        "    vogais = vogais + 1\n",
        "  else:\n",
        "    consoantes = consoantes + 1\n",
        "\n",
        "print(f'Essa palavra tem {vogais} vogais.')\n",
        "print(f'Essa palavra tem {consoantes} consoantes.')"
      ],
      "metadata": {
        "colab": {
          "base_uri": "https://localhost:8080/"
        },
        "id": "04JCyzP16jeq",
        "outputId": "aed3aa7c-b6cf-4430-c352-e131425efa90"
      },
      "execution_count": null,
      "outputs": [
        {
          "output_type": "stream",
          "name": "stdout",
          "text": [
            "Digite uma palavra com 10 caracteres: luizcarlos\n",
            "-----------------------------------\n",
            "A palavra digitada foi luizcarlos. \n",
            "Tendo no total 10 caracteres.\n",
            "-----------------------------------\n",
            "Essa palavra tem 4 vogais.\n",
            "Essa palavra tem 6 consoantes.\n"
          ]
        }
      ]
    },
    {
      "cell_type": "markdown",
      "source": [
        "**Exercício 5.**\n",
        "\n",
        "**Faça um Programa que leia 20 números inteiros e armazene-os num vetor. Armazene os números pares no vetor PAR e os números IMPARES no vetor impar. Imprima os três vetores.**\n"
      ],
      "metadata": {
        "id": "-kZ5_2fmDvHC"
      }
    },
    {
      "cell_type": "code",
      "source": [
        "lista = []\n",
        "pares = []\n",
        "impares = []\n",
        "\n",
        "### VALIDADOR NUMERO INTEIRO ###\n",
        "def leiaInt (mensagem):\n",
        "  ok = False\n",
        "  valor = 0\n",
        "  while True:\n",
        "    numero = str(input(mensagem))\n",
        "    if numero.isnumeric():\n",
        "      valor = int(numero)\n",
        "      ok = True\n",
        "    else:\n",
        "      print ('O número não é inteiro. Tente novamente.')\n",
        "    if ok:\n",
        "      break\n",
        "  return valor  \n",
        "\n",
        "for _ in range(20):\n",
        "  numero = leiaInt('Digite um número inteiro: ')\n",
        "  lista.append(numero)\n",
        "  if numero %2 == 0:\n",
        "    pares.append(numero)\n",
        "  else:\n",
        "    impares.append(numero)\n",
        "\n",
        "print (''*2)\n",
        "print ('Números acrescentados à lista:')\n",
        "print (lista)\n",
        "print (''*2)\n",
        "print (f'Foram incluídos {len(pares)} números pares:')\n",
        "print (pares)\n",
        "print (''*2)\n",
        "print (f'E {len(impares)} números impares:')\n",
        "print (impares)\n",
        "\n",
        "#Script:\n",
        "#criar 3 listas vazias: lista, pares, impares\n",
        "#input dos numeros (+ validador *opcional)\n",
        "#append lista \n",
        "#if append pares\n",
        "#else append impares\n",
        "#impressao de lista\n",
        "#impressao de pares\n",
        "#impressao de impares\n"
      ],
      "metadata": {
        "colab": {
          "base_uri": "https://localhost:8080/"
        },
        "id": "O3fNlzKaAXvF",
        "outputId": "e43ce2b2-645e-441d-bc9e-ee337a09cc35"
      },
      "execution_count": null,
      "outputs": [
        {
          "output_type": "stream",
          "name": "stdout",
          "text": [
            "Digite um número inteiro: luiz\n",
            "O número não é inteiro. Tente novamente.\n",
            "Digite um número inteiro: 1.4\n",
            "O número não é inteiro. Tente novamente.\n",
            "Digite um número inteiro: 1\n",
            "Digite um número inteiro: 2\n",
            "Digite um número inteiro: 3\n",
            "Digite um número inteiro: 4\n",
            "Digite um número inteiro: 5\n",
            "Digite um número inteiro: 6\n",
            "Digite um número inteiro: 7\n",
            "Digite um número inteiro: 8\n",
            "Digite um número inteiro: 9\n",
            "Digite um número inteiro: 10\n",
            "Digite um número inteiro: 11\n",
            "Digite um número inteiro: 12\n",
            "Digite um número inteiro: 13\n",
            "Digite um número inteiro: luiz\n",
            "O número não é inteiro. Tente novamente.\n",
            "Digite um número inteiro: 14\n",
            "Digite um número inteiro: 15\n",
            "Digite um número inteiro: 16\n",
            "Digite um número inteiro: 17\n",
            "Digite um número inteiro: 18\n",
            "Digite um número inteiro: 19\n",
            "Digite um número inteiro: 20\n",
            "\n",
            "Números acrescentados à lista:\n",
            "[1, 2, 3, 4, 5, 6, 7, 8, 9, 10, 11, 12, 13, 14, 15, 16, 17, 18, 19, 20]\n",
            "\n",
            "Foram incluídos 10 números pares:\n",
            "[2, 4, 6, 8, 10, 12, 14, 16, 18, 20]\n",
            "\n",
            "E 10 números impares:\n",
            "[1, 3, 5, 7, 9, 11, 13, 15, 17, 19]\n"
          ]
        }
      ]
    },
    {
      "cell_type": "markdown",
      "source": [
        "**Exercício 6.**\n",
        "\n",
        "**Faça um Programa que peça as quatro notas de 10 alunos, calcule e armazene num vetor a média de cada aluno, imprima o número de alunos com média maior ou igual a 7.0.**\n"
      ],
      "metadata": {
        "id": "niU7_bnXOKIy"
      }
    },
    {
      "cell_type": "code",
      "source": [
        "lista = []\n",
        "acima_de_7 = []\n",
        "\n",
        "for i in range(4): #reduzi o numero de alunos para teste.\n",
        "  print (' '* 2)\n",
        "  nome_aluno = input('Qual o nome do aluno? ')\n",
        "  nota1 = float(input('Qual foi sua primeira nota? '))\n",
        "  nota2 = float(input('Qual foi sua segunda nota? '))\n",
        "  nota3 = float(input('Qual foi sua terceira nota? '))\n",
        "  nota4 = float(input('Qual foi sua quarta nota? '))\n",
        "  soma = nota1 + nota2 + nota3 + nota4\n",
        "  media = soma/4\n",
        "  if media >= 7:\n",
        "    acima_de_7.append(media)\n",
        "    \n",
        "print (' '* 2)\n",
        "print (f'O total de alunos que alcaçaram média maior ou igual a 7 foi: {len(acima_de_7)}')"
      ],
      "metadata": {
        "colab": {
          "base_uri": "https://localhost:8080/"
        },
        "id": "W6zzb1-mKJjZ",
        "outputId": "72cb756e-32ee-4c96-8b2b-972809616df5"
      },
      "execution_count": null,
      "outputs": [
        {
          "output_type": "stream",
          "name": "stdout",
          "text": [
            "  \n",
            "Qual o nome do aluno? Luiz\n",
            "Qual foi sua primeira nota? 10\n",
            "Qual foi sua segunda nota? 8\n",
            "Qual foi sua terceira nota? 7.5\n",
            "Qual foi sua quarta nota? 9\n",
            "  \n",
            "Qual o nome do aluno? Carlos\n",
            "Qual foi sua primeira nota? 9\n",
            "Qual foi sua segunda nota? 6.5\n",
            "Qual foi sua terceira nota? 4\n",
            "Qual foi sua quarta nota? 2.5\n",
            "  \n",
            "Qual o nome do aluno? Pontes\n",
            "Qual foi sua primeira nota? 10\n",
            "Qual foi sua segunda nota? 5.75\n",
            "Qual foi sua terceira nota? 6\n",
            "Qual foi sua quarta nota? 4\n",
            "  \n",
            "Qual o nome do aluno? Gouveia\n",
            "Qual foi sua primeira nota? 10\n",
            "Qual foi sua segunda nota? 10\n",
            "Qual foi sua terceira nota? 9\n",
            "Qual foi sua quarta nota? 8.5\n",
            "O total de alunos que alcaçaram média maior ou igual a 7 foi: 2\n"
          ]
        }
      ]
    },
    {
      "cell_type": "markdown",
      "source": [
        "**Exercício 7.**\n",
        "\n",
        "**Faça um Programa que leia um vetor de 5 números inteiros, mostre a soma, a multiplicação e os números.**\n"
      ],
      "metadata": {
        "id": "EQoBH1lDXm-z"
      }
    },
    {
      "cell_type": "code",
      "source": [
        "lista = []\n",
        "soma_lista = []\n",
        "multiplica_lista = []\n",
        "\n",
        "for _ in range(5):\n",
        "  numero = int(input('Digite um número inteiro: '))\n",
        "  lista.append(numero)\n",
        "print (' '*2)\n",
        "print(f'Os valores acrescentados foram: {lista}')\n",
        "\n",
        "soma = 0\n",
        "for i in lista:\n",
        "  soma+= i\n",
        "print (' '*2)\n",
        "print (f'A soma desses numeros é = {soma}')\n",
        "#soma_lista.append(soma)\n",
        "\n",
        "multiplica = 1\n",
        "for i in lista:\n",
        "  multiplica*= i\n",
        "print (' '*2)\n",
        "print (f'Se multiplicarmos todos eles o resultado é = {multiplica}')\n",
        "#multiplica_lista.append(multiplica)\n"
      ],
      "metadata": {
        "colab": {
          "base_uri": "https://localhost:8080/",
          "height": 236
        },
        "id": "isP3FI7kP1lL",
        "outputId": "bf774fd9-e5de-4944-a491-5f2775ce7b7b"
      },
      "execution_count": null,
      "outputs": [
        {
          "output_type": "stream",
          "name": "stdout",
          "text": [
            "Digite um número inteiro: 4\n",
            "Digite um número inteiro: 7\n",
            "Digite um número inteiro: 10\n",
            "Digite um número inteiro: 5\n",
            "Digite um número inteiro: 8\n",
            "  \n"
          ]
        },
        {
          "output_type": "error",
          "ename": "SyntaxError",
          "evalue": "ignored",
          "traceback": [
            "\u001b[0;36m  File \u001b[0;32m\"<ipython-input-117-3610558254f8>\"\u001b[0;36m, line \u001b[0;32m9\u001b[0m\n\u001b[0;31m    print(f'Os valores acrescentados foram: {(*lista)}')\u001b[0m\n\u001b[0m                                             ^\u001b[0m\n\u001b[0;31mSyntaxError\u001b[0m\u001b[0;31m:\u001b[0m can't use starred expression here\n"
          ]
        }
      ]
    },
    {
      "cell_type": "markdown",
      "source": [
        "**Exercício 8**\n",
        "\n",
        "**Faça um Programa que peça a idade e a altura de 5 pessoas, armazene cada informação no seu respectivo vetor. Imprima a idade e a altura na ordem inversa a ordem lida.**\n"
      ],
      "metadata": {
        "id": "91EBxbCmbcfe"
      }
    },
    {
      "cell_type": "code",
      "source": [
        "idades = []\n",
        "alturas = []\n",
        "\n",
        "for _ in range(5):\n",
        "  print (''*2)\n",
        "  idade= int(input('Qual a idade dessa pessoa: '))\n",
        "  idades.append(idade)\n",
        "  altura= float(input('Qual a altura dessa pessoa? '))\n",
        "  alturas.append(altura)\n",
        "\n",
        "print (idades[::-1])\n",
        "print (alturas[::-1])"
      ],
      "metadata": {
        "colab": {
          "base_uri": "https://localhost:8080/"
        },
        "id": "g9WDfXHMYYUD",
        "outputId": "60be4afa-f996-49cb-cc58-d5009c284806"
      },
      "execution_count": null,
      "outputs": [
        {
          "output_type": "stream",
          "name": "stdout",
          "text": [
            "\n",
            "Qual a idade dessa pessoa: 32\n",
            "Qual a altura dessa pessoa? 1.69\n",
            "\n",
            "Qual a idade dessa pessoa: 33\n",
            "Qual a altura dessa pessoa? 1.89\n",
            "\n",
            "Qual a idade dessa pessoa: 56\n",
            "Qual a altura dessa pessoa? 1.62\n",
            "\n",
            "Qual a idade dessa pessoa: 18\n",
            "Qual a altura dessa pessoa? 1.76\n",
            "\n",
            "Qual a idade dessa pessoa: 22\n",
            "Qual a altura dessa pessoa? 1.66\n",
            "[22, 18, 56, 33, 32]\n",
            "[1.66, 1.76, 1.62, 1.89, 1.69]\n"
          ]
        }
      ]
    },
    {
      "cell_type": "markdown",
      "source": [
        "**Exercício 9.**\n",
        "\n",
        "**Faça um Programa que leia um vetor A com 10 números inteiros, calcule e mostre a soma dos quadrados dos elementos do vetor.**\n"
      ],
      "metadata": {
        "id": "08G_n0VogW-i"
      }
    },
    {
      "cell_type": "code",
      "source": [
        "vetor_a = []\n",
        "vetor_a_quadrado = []\n",
        "vetor_a_soma = []\n",
        "\n",
        "for _ in range(10):\n",
        "  numero = int(input('Digite um número inteiro: '))\n",
        "  vetor_a.append(numero)\n",
        "\n",
        "quadrado = 1\n",
        "for n in vetor_a:\n",
        "  quadrado = n**2\n",
        "  vetor_a_quadrado.append(quadrado)\n",
        "\n",
        "soma = 0\n",
        "for s in vetor_a_quadrado:\n",
        "  soma+= s\n",
        "\n",
        "#Resposta\n",
        "print(' '*2)\n",
        "print(f'O quadrado de cada número é = {vetor_a_quadrado}')\n",
        "print(f'A soma dos 10 números é = {soma}')\n"
      ],
      "metadata": {
        "colab": {
          "base_uri": "https://localhost:8080/"
        },
        "id": "cv9wrnkCc8kl",
        "outputId": "2bdd6a28-b14e-4a98-9b82-64c7660fbbc4"
      },
      "execution_count": null,
      "outputs": [
        {
          "output_type": "stream",
          "name": "stdout",
          "text": [
            "Digite um número inteiro: 3\n",
            "Digite um número inteiro: 5\n",
            "Digite um número inteiro: 6\n",
            "Digite um número inteiro: 7\n",
            "Digite um número inteiro: 9\n",
            "Digite um número inteiro: 10\n",
            "Digite um número inteiro: 8\n",
            "Digite um número inteiro: 24\n",
            "Digite um número inteiro: 52\n",
            "Digite um número inteiro: 23\n",
            "  \n",
            "O quadrado de cada número é = [9, 25, 36, 49, 81, 100, 64, 576, 2704, 529]\n",
            "A soma dos 10 números é = 4173\n"
          ]
        }
      ]
    },
    {
      "cell_type": "markdown",
      "source": [
        "**Exercício 10.**\n",
        "\n",
        "**Faça um Programa que leia dois vetores com 10 elementos cada. Gere um terceiro vetor de 20 elementos, cujos valores deverão ser compostos pelos elementos intercalados dos dois outros vetores.**\n"
      ],
      "metadata": {
        "id": "1eem5uQll1os"
      }
    },
    {
      "cell_type": "code",
      "source": [
        "vetor_a = []\n",
        "vetor_b = []\n",
        "intercalada = []\n",
        "\n",
        "for _ in range(3):\n",
        "  elementos_a = input('Adicione elementos ao VETOR A: ')\n",
        "  vetor_a.append(elementos_a)\n",
        "\n",
        "for n in range(3):\n",
        "  elementos_b = input('Adicione elementos ao VETOR B: ')\n",
        "  vetor_b.append(elementos_b)\n",
        "\n",
        "print (\"Os valores salvos no VETOR A foram: \" + str(vetor_a)) \n",
        "print (\"Os valores salvos no VETOR B foram: \" + str(vetor_b)) \n",
        "juncao = vetor_a + vetor_b \n",
        "juncao[::2] = vetor_a \n",
        "juncao[1::2] = vetor_b \n",
        "print (\"Os valores intercalados dos VETORES A + B são: \" + str(juncao)) "
      ],
      "metadata": {
        "colab": {
          "base_uri": "https://localhost:8080/"
        },
        "id": "G6DHshK7l6oB",
        "outputId": "ea8c8d3f-c249-4bca-c848-ac3eae8490c4"
      },
      "execution_count": null,
      "outputs": [
        {
          "output_type": "stream",
          "name": "stdout",
          "text": [
            "Adicione elementos ao VETOR A: 1\n",
            "Adicione elementos ao VETOR A: 2\n",
            "Adicione elementos ao VETOR A: 3\n",
            "Adicione elementos ao VETOR B: 4\n",
            "Adicione elementos ao VETOR B: 5\n",
            "Adicione elementos ao VETOR B: 6\n",
            "Os valores salvos no VETOR A foram: ['1', '2', '3']\n",
            "Os valores salvos no VETOR B foram: ['4', '5', '6']\n",
            "Os valores intercalados dos VETORES A + B são: ['1', '4', '2', '5', '3', '6']\n"
          ]
        }
      ]
    },
    {
      "cell_type": "markdown",
      "source": [
        "**Exercício 11.**\n",
        "\n",
        "**Altere o programa anterior, intercalando 3 vetores de 10 elementos cada.**\n"
      ],
      "metadata": {
        "id": "YI0IOj85Br0o"
      }
    },
    {
      "cell_type": "code",
      "source": [
        "vetor_a = []\n",
        "vetor_b = []\n",
        "vetor_c = []\n",
        "\n",
        "for _ in range(3):\n",
        "  elementos_a = input('Adicione elementos ao VETOR A: ')\n",
        "  vetor_a.append(elementos_a)\n",
        "print (' '*2)\n",
        "\n",
        "for n in range(3):\n",
        "  elementos_b = input('Adicione elementos ao VETOR B: ')\n",
        "  vetor_b.append(elementos_b)\n",
        "print (' '*2)\n",
        "\n",
        "for z in range(3):\n",
        "  elementos_c = input('Adicione elementos ao VETOR C: ')\n",
        "  vetor_c.append(elementos_c)\n",
        "\n",
        "print (' '*2)\n",
        "print (\"Os valores salvos no VETOR A foram: \" + str(vetor_a)) \n",
        "print (\"Os valores salvos no VETOR B foram: \" + str(vetor_b))\n",
        "print (\"Os valores salvos no VETOR C foram: \" + str(vetor_c)) \n",
        "juncao = vetor_a + vetor_b + vetor_c\n",
        "juncao[::3] = vetor_a\n",
        "juncao[1::3] = vetor_b \n",
        "juncao[2::3] = vetor_c\n",
        "print (\"Os valores intercalados dos VETORES A + B + C são: \" + str(juncao)) "
      ],
      "metadata": {
        "colab": {
          "base_uri": "https://localhost:8080/"
        },
        "id": "rYEyUh8BmhP_",
        "outputId": "269213c0-a0fe-4fca-bf4b-bc0b1a65f60a"
      },
      "execution_count": null,
      "outputs": [
        {
          "output_type": "stream",
          "name": "stdout",
          "text": [
            "Adicione elementos ao VETOR A: 1\n",
            "Adicione elementos ao VETOR A: 2\n",
            "Adicione elementos ao VETOR A: 3\n",
            "  \n",
            "Adicione elementos ao VETOR B: 4\n",
            "Adicione elementos ao VETOR B: 5\n",
            "Adicione elementos ao VETOR B: 6\n",
            "  \n",
            "Adicione elementos ao VETOR c: 7\n",
            "Adicione elementos ao VETOR c: 8\n",
            "Adicione elementos ao VETOR c: 9\n",
            "  \n",
            "Os valores salvos no VETOR A foram: ['1', '2', '3']\n",
            "Os valores salvos no VETOR B foram: ['4', '5', '6']\n",
            "Os valores salvos no VETOR C foram: ['7', '8', '9']\n",
            "Os valores intercalados dos VETORES A + B + C são: ['1', '4', '7', '2', '5', '8', '3', '6', '9']\n"
          ]
        }
      ]
    },
    {
      "cell_type": "markdown",
      "source": [
        "**Exercício 12.**\n",
        "\n",
        "**Foram anotadas as idades e alturas de 30 alunos. Faça um Programa que determine quantos alunos com mais de 13 anos possuem altura inferior à média de altura desses alunos.**\n"
      ],
      "metadata": {
        "id": "rk0hcppdHxXM"
      }
    },
    {
      "cell_type": "code",
      "source": [
        ""
      ],
      "metadata": {
        "id": "F7swPUelKcGk"
      },
      "execution_count": null,
      "outputs": []
    }
  ],
  "metadata": {
    "colab": {
      "collapsed_sections": [
        "DUPHafxPSVjG",
        "GB60_MOAr8vm"
      ],
      "name": "lgou-resolucao-exercicios-pythonbr.ipynb",
      "provenance": []
    },
    "kernelspec": {
      "display_name": "Python 3",
      "name": "python3"
    },
    "language_info": {
      "name": "python"
    }
  },
  "nbformat": 4,
  "nbformat_minor": 0
}